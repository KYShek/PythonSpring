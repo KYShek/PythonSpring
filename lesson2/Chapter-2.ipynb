{
 "metadata": {
  "language_info": {
   "codemirror_mode": {
    "name": "ipython",
    "version": 3
   },
   "file_extension": ".py",
   "mimetype": "text/x-python",
   "name": "python",
   "nbconvert_exporter": "python",
   "pygments_lexer": "ipython3",
   "version": "3.8.5-final"
  },
  "orig_nbformat": 2,
  "kernelspec": {
   "name": "python385jvsc74a57bd07b4b4feff2f24a0f0a34464dbe537a36fda679851528fb8735cb41fa49dffb2d",
   "display_name": "Python 3.8.5 64-bit (conda)"
  }
 },
 "nbformat": 4,
 "nbformat_minor": 2,
 "cells": [
  {
   "cell_type": "code",
   "execution_count": 10,
   "metadata": {},
   "outputs": [
    {
     "output_type": "execute_result",
     "data": {
      "text/plain": [
       "array(['English', 'Python', 'Art'], dtype='<U8')"
      ]
     },
     "metadata": {},
     "execution_count": 10
    }
   ],
   "source": [
    "#2.1思考题 1.一维数组访问\n",
    "import numpy as np\n",
    "subjects=np.array(['Maths','English','Python','Chinese','Art','Database','Physics'])\n",
    "names=np.array(['王微','肖良英','方绮雯','刘旭阳','钱易铭'])\n",
    "subjects[[1,2,4]]"
   ]
  },
  {
   "cell_type": "code",
   "execution_count": 11,
   "metadata": {},
   "outputs": [
    {
     "output_type": "execute_result",
     "data": {
      "text/plain": [
       "'方绮雯'"
      ]
     },
     "metadata": {},
     "execution_count": 11
    }
   ],
   "source": [
    "names[-3]"
   ]
  },
  {
   "cell_type": "code",
   "execution_count": 12,
   "metadata": {},
   "outputs": [
    {
     "output_type": "execute_result",
     "data": {
      "text/plain": [
       "array(['方绮雯', '刘旭阳', '钱易铭'], dtype='<U3')"
      ]
     },
     "metadata": {},
     "execution_count": 12
    }
   ],
   "source": [
    "    names[2:]"
   ]
  },
  {
   "cell_type": "code",
   "execution_count": 13,
   "metadata": {},
   "outputs": [
    {
     "output_type": "execute_result",
     "data": {
      "text/plain": [
       "array(['Python', 'Chinese'], dtype='<U8')"
      ]
     },
     "metadata": {},
     "execution_count": 13
    }
   ],
   "source": [
    "subjects[2:4]"
   ]
  },
  {
   "cell_type": "code",
   "execution_count": 14,
   "metadata": {},
   "outputs": [
    {
     "output_type": "execute_result",
     "data": {
      "text/plain": [
       "array(['English', 'Physics'], dtype='<U8')"
      ]
     },
     "metadata": {},
     "execution_count": 14
    }
   ],
   "source": [
    "subjects[(subjects=='Physics')|(subjects=='English')]"
   ]
  },
  {
   "cell_type": "code",
   "execution_count": 15,
   "metadata": {},
   "outputs": [
    {
     "output_type": "execute_result",
     "data": {
      "text/plain": [
       "array([[60, 64, 80, 75, 80, 92, 90],\n",
       "       [88, 72, 78, 90, 91, 73, 80]])"
      ]
     },
     "metadata": {},
     "execution_count": 15
    }
   ],
   "source": [
    "#2.二维数组访问\n",
    "scores=np.array([[70,85,77,90,82,84,89],[60,64,80,75,80,92,90],[90,93,88,87,86,90,91],[80,82,91,88,83,86,80],[88,72,78,90,91,73,80]])\n",
    "scores[[1,4]]"
   ]
  },
  {
   "cell_type": "code",
   "execution_count": 16,
   "metadata": {},
   "outputs": [
    {
     "output_type": "execute_result",
     "data": {
      "text/plain": [
       "array([[90, 88],\n",
       "       [88, 78]])"
      ]
     },
     "metadata": {},
     "execution_count": 16
    }
   ],
   "source": [
    "scores[[2,4]][:,(subjects=='Maths')|(subjects=='Python')]"
   ]
  },
  {
   "cell_type": "code",
   "execution_count": 17,
   "metadata": {},
   "outputs": [
    {
     "output_type": "execute_result",
     "data": {
      "text/plain": [
       "array([[70, 82],\n",
       "       [60, 80],\n",
       "       [90, 86],\n",
       "       [80, 83],\n",
       "       [88, 91]])"
      ]
     },
     "metadata": {},
     "execution_count": 17
    }
   ],
   "source": [
    "scores[:,(subjects=='Maths')|(subjects=='Art')]"
   ]
  },
  {
   "cell_type": "code",
   "execution_count": 18,
   "metadata": {},
   "outputs": [
    {
     "output_type": "execute_result",
     "data": {
      "text/plain": [
       "array([[85, 82],\n",
       "       [82, 83]])"
      ]
     },
     "metadata": {},
     "execution_count": 18
    }
   ],
   "source": [
    "scores[(names=='王微')|(names=='刘旭阳')][:,(subjects=='English')|(subjects=='Art')]"
   ]
  },
  {
   "cell_type": "code",
   "execution_count": 19,
   "metadata": {},
   "outputs": [
    {
     "output_type": "execute_result",
     "data": {
      "text/plain": [
       "array([[10, 11, 12, 13, 14],\n",
       "       [15, 16, 17, 18, 19]])"
      ]
     },
     "metadata": {},
     "execution_count": 19
    }
   ],
   "source": [
    "np.arange(10,20).reshape(2,5)"
   ]
  },
  {
   "cell_type": "code",
   "execution_count": 20,
   "metadata": {},
   "outputs": [
    {
     "output_type": "execute_result",
     "data": {
      "text/plain": [
       "array([[70, 85, 74, 90, 82, 84, 89],\n",
       "       [60, 64, 77, 75, 80, 92, 90],\n",
       "       [90, 93, 85, 87, 86, 90, 91],\n",
       "       [80, 82, 88, 88, 83, 86, 80],\n",
       "       [88, 72, 75, 90, 91, 73, 80]])"
      ]
     },
     "metadata": {},
     "execution_count": 20
    }
   ],
   "source": [
    "#2.2多维数组运算\n",
    "scores+np.array([0,0,-3,0,0,0,0])"
   ]
  },
  {
   "cell_type": "code",
   "execution_count": 21,
   "metadata": {},
   "outputs": [
    {
     "output_type": "execute_result",
     "data": {
      "text/plain": [
       "array([82.42857143, 77.28571429, 89.28571429, 84.28571429, 81.71428571])"
      ]
     },
     "metadata": {},
     "execution_count": 21
    }
   ],
   "source": [
    "scores.mean(axis=1)"
   ]
  },
  {
   "cell_type": "code",
   "execution_count": 22,
   "metadata": {},
   "outputs": [],
   "source": [
    "R=np.random.uniform(-1,1,size=(3,4))"
   ]
  },
  {
   "cell_type": "code",
   "execution_count": 23,
   "metadata": {},
   "outputs": [
    {
     "output_type": "execute_result",
     "data": {
      "text/plain": [
       "2.7979863461282726"
      ]
     },
     "metadata": {},
     "execution_count": 23
    }
   ],
   "source": [
    "R.sum()"
   ]
  },
  {
   "cell_type": "code",
   "execution_count": 24,
   "metadata": {},
   "outputs": [
    {
     "output_type": "execute_result",
     "data": {
      "text/plain": [
       "15.620499351813308"
      ]
     },
     "metadata": {},
     "execution_count": 24
    }
   ],
   "source": [
    "#2.3随机游走\n",
    "steps=100\n",
    "walk=np.random.randint(0,2,size=(2,steps))\n",
    "walk=np.where(walk>0,1,-1)\n",
    "position=walk.sum(axis=1)\n",
    "distance=np.sqrt(position[0]**2+position[1]**2)\n",
    "distance\n",
    "#猜测平均距离=sqrt(步长)"
   ]
  },
  {
   "cell_type": "code",
   "execution_count": 25,
   "metadata": {},
   "outputs": [],
   "source": [
    "#综合练习\n",
    "#1.1\n",
    "market=np.array(['大润发','沃尔玛','好德','农工商'])\n",
    "fruit=np.array(['苹果','香蕉','橘子','芒果'])"
   ]
  },
  {
   "cell_type": "code",
   "execution_count": 26,
   "metadata": {},
   "outputs": [],
   "source": [
    "#1.2\n",
    "price=np.random.uniform(4,10,size=(4,4))#超市为行,水果为列"
   ]
  },
  {
   "cell_type": "code",
   "execution_count": 27,
   "metadata": {},
   "outputs": [
    {
     "output_type": "execute_result",
     "data": {
      "text/plain": [
       "array([6.47612503])"
      ]
     },
     "metadata": {},
     "execution_count": 27
    }
   ],
   "source": [
    "#1.3\n",
    "price[market=='大润发',fruit=='苹果']+1\n"
   ]
  },
  {
   "cell_type": "code",
   "execution_count": 28,
   "metadata": {},
   "outputs": [
    {
     "output_type": "execute_result",
     "data": {
      "text/plain": [
       "array([8.16814413])"
      ]
     },
     "metadata": {},
     "execution_count": 28
    }
   ],
   "source": [
    "price[market=='好德',fruit=='香蕉']+1"
   ]
  },
  {
   "cell_type": "code",
   "execution_count": 29,
   "metadata": {},
   "outputs": [
    {
     "output_type": "execute_result",
     "data": {
      "text/plain": [
       "array([[3.47612503, 5.4960751 , 6.56199637, 5.78677342],\n",
       "       [4.13549006, 4.89473728, 5.67425219, 5.9343043 ],\n",
       "       [3.58225437, 5.16814413, 2.90752485, 6.98856784],\n",
       "       [2.16425833, 4.97205347, 3.18316281, 5.2002137 ]])"
      ]
     },
     "metadata": {},
     "execution_count": 29
    }
   ],
   "source": [
    "#1,4\n",
    "price-2"
   ]
  },
  {
   "cell_type": "code",
   "execution_count": 30,
   "metadata": {},
   "outputs": [
    {
     "output_type": "execute_result",
     "data": {
      "text/plain": [
       "array([5.33953195, 7.97746482])"
      ]
     },
     "metadata": {},
     "execution_count": 30
    }
   ],
   "source": [
    "#1.5\n",
    "price[:,(fruit=='苹果')|(fruit=='芒果')].mean(axis=0)"
   ]
  },
  {
   "cell_type": "code",
   "execution_count": 31,
   "metadata": {},
   "outputs": [
    {
     "output_type": "execute_result",
     "data": {
      "text/plain": [
       "'大润发'"
      ]
     },
     "metadata": {},
     "execution_count": 31
    }
   ],
   "source": [
    "market[price[:,fruit=='橘子'].argmax()]"
   ]
  },
  {
   "cell_type": "code",
   "execution_count": 32,
   "metadata": {},
   "outputs": [],
   "source": [
    "#2.1\n",
    "steps=10\n",
    "wlk3=np.random.normal(0,1,size=(3,steps))"
   ]
  },
  {
   "cell_type": "code",
   "execution_count": 33,
   "metadata": {},
   "outputs": [
    {
     "output_type": "execute_result",
     "data": {
      "text/plain": [
       "array([[-0.1037485 , -0.54398356,  0.42252438,  2.29861636,  1.8328302 ,\n",
       "         1.5912277 , -0.11110943, -0.68350796,  0.46910597,  1.44904397],\n",
       "       [ 2.14603387,  0.45755252,  1.46611234,  1.45272526,  0.10779999,\n",
       "        -0.82675338,  0.46553412,  0.73331031,  0.70340771, -0.8182148 ],\n",
       "       [-0.01493608, -0.58480674, -1.43646722, -2.08893404, -3.11496607,\n",
       "        -1.91843578, -2.51691432, -2.67807398, -2.01518177, -1.42891051]])"
      ]
     },
     "metadata": {},
     "execution_count": 33
    }
   ],
   "source": [
    "#2.2\n",
    "pos3=wlk3.cumsum(axis=1)\n",
    "pos3"
   ]
  },
  {
   "cell_type": "code",
   "execution_count": 34,
   "metadata": {},
   "outputs": [
    {
     "output_type": "execute_result",
     "data": {
      "text/plain": [
       "array([2.15, 0.92, 2.1 , 3.43, 3.62, 2.63, 2.56, 2.86, 2.19, 2.19])"
      ]
     },
     "metadata": {},
     "execution_count": 34
    }
   ],
   "source": [
    "#2.3\n",
    "d3=np.sqrt(pos3[0]**2+pos3[1]**2+pos3[2]**2)\n",
    "np.set_printoptions(precision=2)\n",
    "d3"
   ]
  },
  {
   "cell_type": "code",
   "execution_count": 35,
   "metadata": {},
   "outputs": [
    {
     "output_type": "execute_result",
     "data": {
      "text/plain": [
       "3.114966073373864"
      ]
     },
     "metadata": {},
     "execution_count": 35
    }
   ],
   "source": [
    "abs(pos3[2]).max()"
   ]
  },
  {
   "cell_type": "code",
   "execution_count": 36,
   "metadata": {},
   "outputs": [
    {
     "output_type": "execute_result",
     "data": {
      "text/plain": [
       "0.9204734368086512"
      ]
     },
     "metadata": {},
     "execution_count": 36
    }
   ],
   "source": [
    "d3.min()"
   ]
  }
 ]
}
