{
 "metadata": {
  "language_info": {
   "codemirror_mode": {
    "name": "ipython",
    "version": 3
   },
   "file_extension": ".py",
   "mimetype": "text/x-python",
   "name": "python",
   "nbconvert_exporter": "python",
   "pygments_lexer": "ipython3",
   "version": "3.8.5-final"
  },
  "orig_nbformat": 2,
  "kernelspec": {
   "name": "python385jvsc74a57bd0b3ba2566441a7c06988d0923437866b63cedc61552a5af99d1f4fb67d367b25f",
   "display_name": "Python 3.8.5 64-bit (conda)"
  }
 },
 "nbformat": 4,
 "nbformat_minor": 2,
 "cells": [
  {
   "cell_type": "code",
   "execution_count": 15,
   "metadata": {},
   "outputs": [
    {
     "output_type": "execute_result",
     "data": {
      "text/plain": [
       "array(['English', 'Python', 'Art'], dtype='<U8')"
      ]
     },
     "metadata": {},
     "execution_count": 15
    }
   ],
   "source": [
    "#2.1思考题 1.一维数组访问\n",
    "import numpy as np\n",
    "subjects=np.array(['Maths','English','Python','Chinese','Art','Database','Physics'])\n",
    "names=np.array(['王微','肖良英','方绮雯','刘旭阳','钱易铭'])\n",
    "subjects[[1,2,4]]"
   ]
  },
  {
   "cell_type": "code",
   "execution_count": 16,
   "metadata": {},
   "outputs": [
    {
     "output_type": "execute_result",
     "data": {
      "text/plain": [
       "'方绮雯'"
      ]
     },
     "metadata": {},
     "execution_count": 16
    }
   ],
   "source": [
    "names[-3]"
   ]
  },
  {
   "cell_type": "code",
   "execution_count": 17,
   "metadata": {},
   "outputs": [
    {
     "output_type": "execute_result",
     "data": {
      "text/plain": [
       "array(['方绮雯', '刘旭阳', '钱易铭'], dtype='<U3')"
      ]
     },
     "metadata": {},
     "execution_count": 17
    }
   ],
   "source": [
    "    names[2:]"
   ]
  },
  {
   "cell_type": "code",
   "execution_count": 18,
   "metadata": {},
   "outputs": [
    {
     "output_type": "execute_result",
     "data": {
      "text/plain": [
       "array(['Python', 'Chinese'], dtype='<U8')"
      ]
     },
     "metadata": {},
     "execution_count": 18
    }
   ],
   "source": [
    "subjects[2:4]"
   ]
  },
  {
   "cell_type": "code",
   "execution_count": 19,
   "metadata": {},
   "outputs": [
    {
     "output_type": "execute_result",
     "data": {
      "text/plain": [
       "array(['English', 'Physics'], dtype='<U8')"
      ]
     },
     "metadata": {},
     "execution_count": 19
    }
   ],
   "source": [
    "subjects[(subjects=='Physics')|(subjects=='English')]"
   ]
  },
  {
   "cell_type": "code",
   "execution_count": 25,
   "metadata": {},
   "outputs": [
    {
     "output_type": "execute_result",
     "data": {
      "text/plain": [
       "array([[60, 64, 80, 75, 80, 92, 90],\n",
       "       [88, 72, 78, 90, 91, 73, 80]])"
      ]
     },
     "metadata": {},
     "execution_count": 25
    }
   ],
   "source": [
    "#二维数组访问\n",
    "scores=np.array([[70,85,77,90,82,84,89],[60,64,80,75,80,92,90],[90,93,88,87,86,90,91],[80,82,91,88,83,86,80],[88,72,78,90,91,73,80]])\n",
    "scores[[1,4]]"
   ]
  },
  {
   "cell_type": "code",
   "execution_count": 21,
   "metadata": {},
   "outputs": [
    {
     "output_type": "execute_result",
     "data": {
      "text/plain": [
       "array([[90, 88],\n",
       "       [88, 78]])"
      ]
     },
     "metadata": {},
     "execution_count": 21
    }
   ],
   "source": [
    "scores[[2,4]][:,(subjects=='Maths')|(subjects=='Python')]"
   ]
  },
  {
   "cell_type": "code",
   "execution_count": 22,
   "metadata": {},
   "outputs": [
    {
     "output_type": "execute_result",
     "data": {
      "text/plain": [
       "array([[70, 82],\n",
       "       [60, 80],\n",
       "       [90, 86],\n",
       "       [80, 83],\n",
       "       [88, 91]])"
      ]
     },
     "metadata": {},
     "execution_count": 22
    }
   ],
   "source": [
    "scores[:,(subjects=='Maths')|(subjects=='Art')]"
   ]
  },
  {
   "cell_type": "code",
   "execution_count": 29,
   "metadata": {},
   "outputs": [
    {
     "output_type": "execute_result",
     "data": {
      "text/plain": [
       "array([[85, 82],\n",
       "       [82, 83]])"
      ]
     },
     "metadata": {},
     "execution_count": 29
    }
   ],
   "source": [
    "scores[(names=='王微')|(names=='刘旭阳')][:,(subjects=='English')|(subjects=='Art')]"
   ]
  },
  {
   "cell_type": "code",
   "execution_count": 30,
   "metadata": {},
   "outputs": [
    {
     "output_type": "execute_result",
     "data": {
      "text/plain": [
       "array([[10, 11, 12, 13, 14],\n",
       "       [15, 16, 17, 18, 19]])"
      ]
     },
     "metadata": {},
     "execution_count": 30
    }
   ],
   "source": [
    "np.arange(10,20).reshape(2,5)"
   ]
  },
  {
   "cell_type": "code",
   "execution_count": null,
   "metadata": {},
   "outputs": [],
   "source": []
  }
 ]
}