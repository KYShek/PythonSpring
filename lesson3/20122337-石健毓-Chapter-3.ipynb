{
 "metadata": {
  "language_info": {
   "codemirror_mode": {
    "name": "ipython",
    "version": 3
   },
   "file_extension": ".py",
   "mimetype": "text/x-python",
   "name": "python",
   "nbconvert_exporter": "python",
   "pygments_lexer": "ipython3",
   "version": "3.8.5"
  },
  "orig_nbformat": 2,
  "kernelspec": {
   "name": "python385jvsc74a57bd07b4b4feff2f24a0f0a34464dbe537a36fda679851528fb8735cb41fa49dffb2d",
   "display_name": "Python 3.8.5 64-bit (conda)"
  }
 },
 "nbformat": 4,
 "nbformat_minor": 2,
 "cells": [
  {
   "cell_type": "code",
   "execution_count": 135,
   "metadata": {},
   "outputs": [],
   "source": [
    "import pandas as pd\n",
    "import numpy as np\n",
    "from pandas import Series, DataFrame\n",
    "#3.2.1\n",
    "table=Series({'a':30,'b':25,'c':27,'d':41,'e':25,'f':34})"
   ]
  },
  {
   "cell_type": "code",
   "execution_count": 136,
   "metadata": {},
   "outputs": [],
   "source": [
    "newtable=Series([27],index=['g'])\n",
    "table=table.append(newtable)"
   ]
  },
  {
   "cell_type": "code",
   "execution_count": 137,
   "metadata": {},
   "outputs": [],
   "source": [
    "table['d']=40"
   ]
  },
  {
   "cell_type": "code",
   "execution_count": 138,
   "metadata": {},
   "outputs": [
    {
     "output_type": "execute_result",
     "data": {
      "text/plain": [
       "a    30\n",
       "d    40\n",
       "f    34\n",
       "dtype: int64"
      ]
     },
     "metadata": {},
     "execution_count": 138
    }
   ],
   "source": [
    "table[table.values>27]"
   ]
  },
  {
   "cell_type": "code",
   "execution_count": 139,
   "metadata": {},
   "outputs": [
    {
     "output_type": "execute_result",
     "data": {
      "text/plain": [
       "a    30\n",
       "e    25\n",
       "f    34\n",
       "g    27\n",
       "dtype: int64"
      ]
     },
     "metadata": {},
     "execution_count": 139
    }
   ],
   "source": [
    "newtable=table.drop(table.index[1:4])\n",
    "newtable"
   ]
  },
  {
   "cell_type": "code",
   "execution_count": 140,
   "metadata": {},
   "outputs": [
    {
     "output_type": "execute_result",
     "data": {
      "text/plain": [
       "   one  two  three\n",
       "a    1    2      3\n",
       "b    4    5      6\n",
       "c    7    8      9"
      ],
      "text/html": "<div>\n<style scoped>\n    .dataframe tbody tr th:only-of-type {\n        vertical-align: middle;\n    }\n\n    .dataframe tbody tr th {\n        vertical-align: top;\n    }\n\n    .dataframe thead th {\n        text-align: right;\n    }\n</style>\n<table border=\"1\" class=\"dataframe\">\n  <thead>\n    <tr style=\"text-align: right;\">\n      <th></th>\n      <th>one</th>\n      <th>two</th>\n      <th>three</th>\n    </tr>\n  </thead>\n  <tbody>\n    <tr>\n      <th>a</th>\n      <td>1</td>\n      <td>2</td>\n      <td>3</td>\n    </tr>\n    <tr>\n      <th>b</th>\n      <td>4</td>\n      <td>5</td>\n      <td>6</td>\n    </tr>\n    <tr>\n      <th>c</th>\n      <td>7</td>\n      <td>8</td>\n      <td>9</td>\n    </tr>\n  </tbody>\n</table>\n</div>"
     },
     "metadata": {},
     "execution_count": 140
    }
   ],
   "source": [
    "#3.2.2\n",
    "newframe=DataFrame([[1,2,3],[4,5,6],[7,8,9]],index=['a','b','c'],columns=['one','two','three'])\n",
    "newframe"
   ]
  },
  {
   "cell_type": "code",
   "execution_count": 141,
   "metadata": {},
   "outputs": [
    {
     "output_type": "execute_result",
     "data": {
      "text/plain": [
       "   two  three\n",
       "a    2      3\n",
       "b    5      6\n",
       "c    8      9"
      ],
      "text/html": "<div>\n<style scoped>\n    .dataframe tbody tr th:only-of-type {\n        vertical-align: middle;\n    }\n\n    .dataframe tbody tr th {\n        vertical-align: top;\n    }\n\n    .dataframe thead th {\n        text-align: right;\n    }\n</style>\n<table border=\"1\" class=\"dataframe\">\n  <thead>\n    <tr style=\"text-align: right;\">\n      <th></th>\n      <th>two</th>\n      <th>three</th>\n    </tr>\n  </thead>\n  <tbody>\n    <tr>\n      <th>a</th>\n      <td>2</td>\n      <td>3</td>\n    </tr>\n    <tr>\n      <th>b</th>\n      <td>5</td>\n      <td>6</td>\n    </tr>\n    <tr>\n      <th>c</th>\n      <td>8</td>\n      <td>9</td>\n    </tr>\n  </tbody>\n</table>\n</div>"
     },
     "metadata": {},
     "execution_count": 141
    }
   ],
   "source": [
    "newframe[['two','three']]"
   ]
  },
  {
   "cell_type": "code",
   "execution_count": 142,
   "metadata": {},
   "outputs": [
    {
     "output_type": "execute_result",
     "data": {
      "text/plain": [
       "   one  three\n",
       "a    1      3\n",
       "c    7      9"
      ],
      "text/html": "<div>\n<style scoped>\n    .dataframe tbody tr th:only-of-type {\n        vertical-align: middle;\n    }\n\n    .dataframe tbody tr th {\n        vertical-align: top;\n    }\n\n    .dataframe thead th {\n        text-align: right;\n    }\n</style>\n<table border=\"1\" class=\"dataframe\">\n  <thead>\n    <tr style=\"text-align: right;\">\n      <th></th>\n      <th>one</th>\n      <th>three</th>\n    </tr>\n  </thead>\n  <tbody>\n    <tr>\n      <th>a</th>\n      <td>1</td>\n      <td>3</td>\n    </tr>\n    <tr>\n      <th>c</th>\n      <td>7</td>\n      <td>9</td>\n    </tr>\n  </tbody>\n</table>\n</div>"
     },
     "metadata": {},
     "execution_count": 142
    }
   ],
   "source": [
    "newframe.iloc[[0,2],[0,2]]"
   ]
  },
  {
   "cell_type": "code",
   "execution_count": 143,
   "metadata": {},
   "outputs": [
    {
     "output_type": "execute_result",
     "data": {
      "text/plain": [
       "   one  two  three\n",
       "b    4    5      6\n",
       "c    7    8      9"
      ],
      "text/html": "<div>\n<style scoped>\n    .dataframe tbody tr th:only-of-type {\n        vertical-align: middle;\n    }\n\n    .dataframe tbody tr th {\n        vertical-align: top;\n    }\n\n    .dataframe thead th {\n        text-align: right;\n    }\n</style>\n<table border=\"1\" class=\"dataframe\">\n  <thead>\n    <tr style=\"text-align: right;\">\n      <th></th>\n      <th>one</th>\n      <th>two</th>\n      <th>three</th>\n    </tr>\n  </thead>\n  <tbody>\n    <tr>\n      <th>b</th>\n      <td>4</td>\n      <td>5</td>\n      <td>6</td>\n    </tr>\n    <tr>\n      <th>c</th>\n      <td>7</td>\n      <td>8</td>\n      <td>9</td>\n    </tr>\n  </tbody>\n</table>\n</div>"
     },
     "metadata": {},
     "execution_count": 143
    }
   ],
   "source": [
    "data1=newframe.loc[newframe['two']>2].copy()#还有其他写法吗？\n",
    "data1"
   ]
  },
  {
   "cell_type": "code",
   "execution_count": 144,
   "metadata": {},
   "outputs": [
    {
     "output_type": "execute_result",
     "data": {
      "text/plain": [
       "   one  two  three  four\n",
       "b    4    5      6    10\n",
       "c    7    8      9    10"
      ],
      "text/html": "<div>\n<style scoped>\n    .dataframe tbody tr th:only-of-type {\n        vertical-align: middle;\n    }\n\n    .dataframe tbody tr th {\n        vertical-align: top;\n    }\n\n    .dataframe thead th {\n        text-align: right;\n    }\n</style>\n<table border=\"1\" class=\"dataframe\">\n  <thead>\n    <tr style=\"text-align: right;\">\n      <th></th>\n      <th>one</th>\n      <th>two</th>\n      <th>three</th>\n      <th>four</th>\n    </tr>\n  </thead>\n  <tbody>\n    <tr>\n      <th>b</th>\n      <td>4</td>\n      <td>5</td>\n      <td>6</td>\n      <td>10</td>\n    </tr>\n    <tr>\n      <th>c</th>\n      <td>7</td>\n      <td>8</td>\n      <td>9</td>\n      <td>10</td>\n    </tr>\n  </tbody>\n</table>\n</div>"
     },
     "metadata": {},
     "execution_count": 144
    }
   ],
   "source": [
    "data1['four']=[10,10]\n",
    "data1"
   ]
  },
  {
   "cell_type": "code",
   "execution_count": 145,
   "metadata": {},
   "outputs": [
    {
     "output_type": "execute_result",
     "data": {
      "text/plain": [
       "   one  two  three  four\n",
       "b    4    5      6     8\n",
       "c    7    8      9     8"
      ],
      "text/html": "<div>\n<style scoped>\n    .dataframe tbody tr th:only-of-type {\n        vertical-align: middle;\n    }\n\n    .dataframe tbody tr th {\n        vertical-align: top;\n    }\n\n    .dataframe thead th {\n        text-align: right;\n    }\n</style>\n<table border=\"1\" class=\"dataframe\">\n  <thead>\n    <tr style=\"text-align: right;\">\n      <th></th>\n      <th>one</th>\n      <th>two</th>\n      <th>three</th>\n      <th>four</th>\n    </tr>\n  </thead>\n  <tbody>\n    <tr>\n      <th>b</th>\n      <td>4</td>\n      <td>5</td>\n      <td>6</td>\n      <td>8</td>\n    </tr>\n    <tr>\n      <th>c</th>\n      <td>7</td>\n      <td>8</td>\n      <td>9</td>\n      <td>8</td>\n    </tr>\n  </tbody>\n</table>\n</div>"
     },
     "metadata": {},
     "execution_count": 145
    }
   ],
   "source": [
    "data1[data1>9]=8\n",
    "data1"
   ]
  },
  {
   "cell_type": "code",
   "execution_count": 146,
   "metadata": {},
   "outputs": [
    {
     "output_type": "execute_result",
     "data": {
      "text/plain": [
       "Empty DataFrame\n",
       "Columns: [one, two, three, four]\n",
       "Index: []"
      ],
      "text/html": "<div>\n<style scoped>\n    .dataframe tbody tr th:only-of-type {\n        vertical-align: middle;\n    }\n\n    .dataframe tbody tr th {\n        vertical-align: top;\n    }\n\n    .dataframe thead th {\n        text-align: right;\n    }\n</style>\n<table border=\"1\" class=\"dataframe\">\n  <thead>\n    <tr style=\"text-align: right;\">\n      <th></th>\n      <th>one</th>\n      <th>two</th>\n      <th>three</th>\n      <th>four</th>\n    </tr>\n  </thead>\n  <tbody>\n  </tbody>\n</table>\n</div>"
     },
     "metadata": {},
     "execution_count": 146
    }
   ],
   "source": [
    "data1.drop(['b','c'],axis=0)"
   ]
  },
  {
   "cell_type": "code",
   "execution_count": 147,
   "metadata": {},
   "outputs": [],
   "source": [
    "#3.3.1\n",
    "df=DataFrame(np.random.randint(10,100,size=(50,7)),columns=['a','b','c','d','e','f','g'])\n",
    "df.to_csv('random1.csv',mode='w',header=True,index=False)"
   ]
  },
  {
   "cell_type": "code",
   "execution_count": 148,
   "metadata": {},
   "outputs": [],
   "source": [
    "#3.3.2\n",
    "dating=pd.read_csv('data\\datingTestSet.csv',skiprows=[0,1],header=None)"
   ]
  },
  {
   "cell_type": "code",
   "execution_count": 149,
   "metadata": {},
   "outputs": [],
   "source": [
    "dating.columns=['flymiles','videogame','icecream','type']"
   ]
  },
  {
   "source": [
    "dating[0:5]"
   ],
   "cell_type": "code",
   "metadata": {},
   "execution_count": 150,
   "outputs": [
    {
     "output_type": "execute_result",
     "data": {
      "text/plain": [
       "   flymiles  videogame  icecream        type\n",
       "0   40920.0   8.326976  0.953952  largeDoses\n",
       "1   14488.0   7.153469  1.673904  smallDoses\n",
       "2   26052.0   1.441871  0.805124   didntLike\n",
       "3   75136.0  13.147394  0.428964   didntLike\n",
       "4   38344.0   1.669788  0.134296   didntLike"
      ],
      "text/html": "<div>\n<style scoped>\n    .dataframe tbody tr th:only-of-type {\n        vertical-align: middle;\n    }\n\n    .dataframe tbody tr th {\n        vertical-align: top;\n    }\n\n    .dataframe thead th {\n        text-align: right;\n    }\n</style>\n<table border=\"1\" class=\"dataframe\">\n  <thead>\n    <tr style=\"text-align: right;\">\n      <th></th>\n      <th>flymiles</th>\n      <th>videogame</th>\n      <th>icecream</th>\n      <th>type</th>\n    </tr>\n  </thead>\n  <tbody>\n    <tr>\n      <th>0</th>\n      <td>40920.0</td>\n      <td>8.326976</td>\n      <td>0.953952</td>\n      <td>largeDoses</td>\n    </tr>\n    <tr>\n      <th>1</th>\n      <td>14488.0</td>\n      <td>7.153469</td>\n      <td>1.673904</td>\n      <td>smallDoses</td>\n    </tr>\n    <tr>\n      <th>2</th>\n      <td>26052.0</td>\n      <td>1.441871</td>\n      <td>0.805124</td>\n      <td>didntLike</td>\n    </tr>\n    <tr>\n      <th>3</th>\n      <td>75136.0</td>\n      <td>13.147394</td>\n      <td>0.428964</td>\n      <td>didntLike</td>\n    </tr>\n    <tr>\n      <th>4</th>\n      <td>38344.0</td>\n      <td>1.669788</td>\n      <td>0.134296</td>\n      <td>didntLike</td>\n    </tr>\n  </tbody>\n</table>\n</div>"
     },
     "metadata": {},
     "execution_count": 150
    }
   ]
  },
  {
   "cell_type": "code",
   "execution_count": 151,
   "metadata": {},
   "outputs": [
    {
     "output_type": "execute_result",
     "data": {
      "text/plain": [
       "     flymiles  videogame  icecream        type\n",
       "0     40920.0   8.326976  0.953952  largeDoses\n",
       "6     35948.0   6.830792  1.213192  largeDoses\n",
       "7     42666.0  13.276369  0.543880  largeDoses\n",
       "9     35483.0  12.273169  1.508053  largeDoses\n",
       "19    28488.0  10.528555  1.304844  largeDoses\n",
       "..        ...        ...       ...         ...\n",
       "977   34143.0  13.609528  0.364240  largeDoses\n",
       "990   27750.0   8.546741  0.128706  largeDoses\n",
       "997   26575.0  10.650102  0.866627  largeDoses\n",
       "998   48111.0   9.134528  0.728045  largeDoses\n",
       "999   43757.0   7.882601  1.332446  largeDoses\n",
       "\n",
       "[327 rows x 4 columns]"
      ],
      "text/html": "<div>\n<style scoped>\n    .dataframe tbody tr th:only-of-type {\n        vertical-align: middle;\n    }\n\n    .dataframe tbody tr th {\n        vertical-align: top;\n    }\n\n    .dataframe thead th {\n        text-align: right;\n    }\n</style>\n<table border=\"1\" class=\"dataframe\">\n  <thead>\n    <tr style=\"text-align: right;\">\n      <th></th>\n      <th>flymiles</th>\n      <th>videogame</th>\n      <th>icecream</th>\n      <th>type</th>\n    </tr>\n  </thead>\n  <tbody>\n    <tr>\n      <th>0</th>\n      <td>40920.0</td>\n      <td>8.326976</td>\n      <td>0.953952</td>\n      <td>largeDoses</td>\n    </tr>\n    <tr>\n      <th>6</th>\n      <td>35948.0</td>\n      <td>6.830792</td>\n      <td>1.213192</td>\n      <td>largeDoses</td>\n    </tr>\n    <tr>\n      <th>7</th>\n      <td>42666.0</td>\n      <td>13.276369</td>\n      <td>0.543880</td>\n      <td>largeDoses</td>\n    </tr>\n    <tr>\n      <th>9</th>\n      <td>35483.0</td>\n      <td>12.273169</td>\n      <td>1.508053</td>\n      <td>largeDoses</td>\n    </tr>\n    <tr>\n      <th>19</th>\n      <td>28488.0</td>\n      <td>10.528555</td>\n      <td>1.304844</td>\n      <td>largeDoses</td>\n    </tr>\n    <tr>\n      <th>...</th>\n      <td>...</td>\n      <td>...</td>\n      <td>...</td>\n      <td>...</td>\n    </tr>\n    <tr>\n      <th>977</th>\n      <td>34143.0</td>\n      <td>13.609528</td>\n      <td>0.364240</td>\n      <td>largeDoses</td>\n    </tr>\n    <tr>\n      <th>990</th>\n      <td>27750.0</td>\n      <td>8.546741</td>\n      <td>0.128706</td>\n      <td>largeDoses</td>\n    </tr>\n    <tr>\n      <th>997</th>\n      <td>26575.0</td>\n      <td>10.650102</td>\n      <td>0.866627</td>\n      <td>largeDoses</td>\n    </tr>\n    <tr>\n      <th>998</th>\n      <td>48111.0</td>\n      <td>9.134528</td>\n      <td>0.728045</td>\n      <td>largeDoses</td>\n    </tr>\n    <tr>\n      <th>999</th>\n      <td>43757.0</td>\n      <td>7.882601</td>\n      <td>1.332446</td>\n      <td>largeDoses</td>\n    </tr>\n  </tbody>\n</table>\n<p>327 rows × 4 columns</p>\n</div>"
     },
     "metadata": {},
     "execution_count": 151
    }
   ],
   "source": [
    "dating.loc[dating['type']=='largeDoses']"
   ]
  },
  {
   "cell_type": "code",
   "execution_count": 152,
   "metadata": {},
   "outputs": [],
   "source": [
    "dating.loc[dating['videogame']>10,'videogame']=10"
   ]
  },
  {
   "cell_type": "code",
   "execution_count": 153,
   "metadata": {},
   "outputs": [],
   "source": [
    "#3.4.1\n",
    "stuinfo=pd.read_excel('data\\studentsinfo.xlsx','Group1',index_col=0)"
   ]
  },
  {
   "cell_type": "code",
   "execution_count": 154,
   "metadata": {},
   "outputs": [
    {
     "output_type": "execute_result",
     "data": {
      "text/plain": [
       "        性别    年龄   身高    体重            省份    成绩    月生活费  课程兴趣  案例教学\n",
       "序号                                                                 \n",
       "1     male  20.0  170  70.0      LiaoNing   NaN   800.0     5   NaN\n",
       "2     male  22.0  180  71.0       GuangXi  77.0  1300.0     3   NaN\n",
       "3     male   NaN  180  62.0        FuJian  57.0  1000.0     2   NaN\n",
       "4     male  20.0  177  72.0      LiaoNing  79.0   900.0     4   NaN\n",
       "5     male  20.0  172   NaN      ShanDong  91.0     NaN     5   NaN\n",
       "6     male  20.0  179  75.0        YunNan  92.0   950.0     5   NaN\n",
       "7   female  21.0  166  53.0      LiaoNing  80.0  1200.0     4   NaN\n",
       "8   female  20.0  162  47.0         AnHui  78.0  1000.0     4   NaN\n",
       "9   female  20.0  162  47.0         AnHui  78.0  1000.0     4   NaN\n",
       "10    male  19.0  169  76.0  HeiLongJiang  88.0  1100.0     5   NaN"
      ],
      "text/html": "<div>\n<style scoped>\n    .dataframe tbody tr th:only-of-type {\n        vertical-align: middle;\n    }\n\n    .dataframe tbody tr th {\n        vertical-align: top;\n    }\n\n    .dataframe thead th {\n        text-align: right;\n    }\n</style>\n<table border=\"1\" class=\"dataframe\">\n  <thead>\n    <tr style=\"text-align: right;\">\n      <th></th>\n      <th>性别</th>\n      <th>年龄</th>\n      <th>身高</th>\n      <th>体重</th>\n      <th>省份</th>\n      <th>成绩</th>\n      <th>月生活费</th>\n      <th>课程兴趣</th>\n      <th>案例教学</th>\n    </tr>\n    <tr>\n      <th>序号</th>\n      <th></th>\n      <th></th>\n      <th></th>\n      <th></th>\n      <th></th>\n      <th></th>\n      <th></th>\n      <th></th>\n      <th></th>\n    </tr>\n  </thead>\n  <tbody>\n    <tr>\n      <th>1</th>\n      <td>male</td>\n      <td>20.0</td>\n      <td>170</td>\n      <td>70.0</td>\n      <td>LiaoNing</td>\n      <td>NaN</td>\n      <td>800.0</td>\n      <td>5</td>\n      <td>NaN</td>\n    </tr>\n    <tr>\n      <th>2</th>\n      <td>male</td>\n      <td>22.0</td>\n      <td>180</td>\n      <td>71.0</td>\n      <td>GuangXi</td>\n      <td>77.0</td>\n      <td>1300.0</td>\n      <td>3</td>\n      <td>NaN</td>\n    </tr>\n    <tr>\n      <th>3</th>\n      <td>male</td>\n      <td>NaN</td>\n      <td>180</td>\n      <td>62.0</td>\n      <td>FuJian</td>\n      <td>57.0</td>\n      <td>1000.0</td>\n      <td>2</td>\n      <td>NaN</td>\n    </tr>\n    <tr>\n      <th>4</th>\n      <td>male</td>\n      <td>20.0</td>\n      <td>177</td>\n      <td>72.0</td>\n      <td>LiaoNing</td>\n      <td>79.0</td>\n      <td>900.0</td>\n      <td>4</td>\n      <td>NaN</td>\n    </tr>\n    <tr>\n      <th>5</th>\n      <td>male</td>\n      <td>20.0</td>\n      <td>172</td>\n      <td>NaN</td>\n      <td>ShanDong</td>\n      <td>91.0</td>\n      <td>NaN</td>\n      <td>5</td>\n      <td>NaN</td>\n    </tr>\n    <tr>\n      <th>6</th>\n      <td>male</td>\n      <td>20.0</td>\n      <td>179</td>\n      <td>75.0</td>\n      <td>YunNan</td>\n      <td>92.0</td>\n      <td>950.0</td>\n      <td>5</td>\n      <td>NaN</td>\n    </tr>\n    <tr>\n      <th>7</th>\n      <td>female</td>\n      <td>21.0</td>\n      <td>166</td>\n      <td>53.0</td>\n      <td>LiaoNing</td>\n      <td>80.0</td>\n      <td>1200.0</td>\n      <td>4</td>\n      <td>NaN</td>\n    </tr>\n    <tr>\n      <th>8</th>\n      <td>female</td>\n      <td>20.0</td>\n      <td>162</td>\n      <td>47.0</td>\n      <td>AnHui</td>\n      <td>78.0</td>\n      <td>1000.0</td>\n      <td>4</td>\n      <td>NaN</td>\n    </tr>\n    <tr>\n      <th>9</th>\n      <td>female</td>\n      <td>20.0</td>\n      <td>162</td>\n      <td>47.0</td>\n      <td>AnHui</td>\n      <td>78.0</td>\n      <td>1000.0</td>\n      <td>4</td>\n      <td>NaN</td>\n    </tr>\n    <tr>\n      <th>10</th>\n      <td>male</td>\n      <td>19.0</td>\n      <td>169</td>\n      <td>76.0</td>\n      <td>HeiLongJiang</td>\n      <td>88.0</td>\n      <td>1100.0</td>\n      <td>5</td>\n      <td>NaN</td>\n    </tr>\n  </tbody>\n</table>\n</div>"
     },
     "metadata": {},
     "execution_count": 154
    }
   ],
   "source": [
    "stuinfo['案例教学']=np.NaN\n",
    "stuinfo"
   ]
  },
  {
   "cell_type": "code",
   "execution_count": 155,
   "metadata": {},
   "outputs": [
    {
     "output_type": "execute_result",
     "data": {
      "text/plain": [
       "        性别    年龄   身高    体重            省份    成绩    月生活费  课程兴趣  案例教学\n",
       "序号                                                                 \n",
       "1     male  20.0  170  70.0      LiaoNing   NaN   800.0     5   NaN\n",
       "2     male  22.0  180  71.0       GuangXi  77.0  1300.0     3   NaN\n",
       "3     male   NaN  180  62.0        FuJian  57.0  1000.0     2   NaN\n",
       "4     male  20.0  177  72.0      LiaoNing  79.0   900.0     4   NaN\n",
       "5     male  20.0  172   NaN      ShanDong  91.0     NaN     5   NaN\n",
       "6     male  20.0  179  75.0        YunNan  92.0   950.0     5   NaN\n",
       "7   female  21.0  166  53.0      LiaoNing  80.0  1200.0     4   NaN\n",
       "8   female  20.0  162  47.0         AnHui  78.0  1000.0     4   NaN\n",
       "9   female  20.0  162  47.0         AnHui  78.0  1000.0     4   NaN\n",
       "10    male  19.0  169  76.0  HeiLongJiang  88.0  1100.0     5   NaN"
      ],
      "text/html": "<div>\n<style scoped>\n    .dataframe tbody tr th:only-of-type {\n        vertical-align: middle;\n    }\n\n    .dataframe tbody tr th {\n        vertical-align: top;\n    }\n\n    .dataframe thead th {\n        text-align: right;\n    }\n</style>\n<table border=\"1\" class=\"dataframe\">\n  <thead>\n    <tr style=\"text-align: right;\">\n      <th></th>\n      <th>性别</th>\n      <th>年龄</th>\n      <th>身高</th>\n      <th>体重</th>\n      <th>省份</th>\n      <th>成绩</th>\n      <th>月生活费</th>\n      <th>课程兴趣</th>\n      <th>案例教学</th>\n    </tr>\n    <tr>\n      <th>序号</th>\n      <th></th>\n      <th></th>\n      <th></th>\n      <th></th>\n      <th></th>\n      <th></th>\n      <th></th>\n      <th></th>\n      <th></th>\n    </tr>\n  </thead>\n  <tbody>\n    <tr>\n      <th>1</th>\n      <td>male</td>\n      <td>20.0</td>\n      <td>170</td>\n      <td>70.0</td>\n      <td>LiaoNing</td>\n      <td>NaN</td>\n      <td>800.0</td>\n      <td>5</td>\n      <td>NaN</td>\n    </tr>\n    <tr>\n      <th>2</th>\n      <td>male</td>\n      <td>22.0</td>\n      <td>180</td>\n      <td>71.0</td>\n      <td>GuangXi</td>\n      <td>77.0</td>\n      <td>1300.0</td>\n      <td>3</td>\n      <td>NaN</td>\n    </tr>\n    <tr>\n      <th>3</th>\n      <td>male</td>\n      <td>NaN</td>\n      <td>180</td>\n      <td>62.0</td>\n      <td>FuJian</td>\n      <td>57.0</td>\n      <td>1000.0</td>\n      <td>2</td>\n      <td>NaN</td>\n    </tr>\n    <tr>\n      <th>4</th>\n      <td>male</td>\n      <td>20.0</td>\n      <td>177</td>\n      <td>72.0</td>\n      <td>LiaoNing</td>\n      <td>79.0</td>\n      <td>900.0</td>\n      <td>4</td>\n      <td>NaN</td>\n    </tr>\n    <tr>\n      <th>5</th>\n      <td>male</td>\n      <td>20.0</td>\n      <td>172</td>\n      <td>NaN</td>\n      <td>ShanDong</td>\n      <td>91.0</td>\n      <td>NaN</td>\n      <td>5</td>\n      <td>NaN</td>\n    </tr>\n    <tr>\n      <th>6</th>\n      <td>male</td>\n      <td>20.0</td>\n      <td>179</td>\n      <td>75.0</td>\n      <td>YunNan</td>\n      <td>92.0</td>\n      <td>950.0</td>\n      <td>5</td>\n      <td>NaN</td>\n    </tr>\n    <tr>\n      <th>7</th>\n      <td>female</td>\n      <td>21.0</td>\n      <td>166</td>\n      <td>53.0</td>\n      <td>LiaoNing</td>\n      <td>80.0</td>\n      <td>1200.0</td>\n      <td>4</td>\n      <td>NaN</td>\n    </tr>\n    <tr>\n      <th>8</th>\n      <td>female</td>\n      <td>20.0</td>\n      <td>162</td>\n      <td>47.0</td>\n      <td>AnHui</td>\n      <td>78.0</td>\n      <td>1000.0</td>\n      <td>4</td>\n      <td>NaN</td>\n    </tr>\n    <tr>\n      <th>9</th>\n      <td>female</td>\n      <td>20.0</td>\n      <td>162</td>\n      <td>47.0</td>\n      <td>AnHui</td>\n      <td>78.0</td>\n      <td>1000.0</td>\n      <td>4</td>\n      <td>NaN</td>\n    </tr>\n    <tr>\n      <th>10</th>\n      <td>male</td>\n      <td>19.0</td>\n      <td>169</td>\n      <td>76.0</td>\n      <td>HeiLongJiang</td>\n      <td>88.0</td>\n      <td>1100.0</td>\n      <td>5</td>\n      <td>NaN</td>\n    </tr>\n  </tbody>\n</table>\n</div>"
     },
     "metadata": {},
     "execution_count": 155
    }
   ],
   "source": [
    "stuinfo.dropna(thresh=6)"
   ]
  },
  {
   "cell_type": "code",
   "execution_count": 156,
   "metadata": {},
   "outputs": [
    {
     "output_type": "execute_result",
     "data": {
      "text/plain": [
       "        性别    年龄   身高    体重            省份    成绩    月生活费  课程兴趣\n",
       "序号                                                           \n",
       "1     male  20.0  170  70.0      LiaoNing   NaN   800.0     5\n",
       "2     male  22.0  180  71.0       GuangXi  77.0  1300.0     3\n",
       "3     male   NaN  180  62.0        FuJian  57.0  1000.0     2\n",
       "4     male  20.0  177  72.0      LiaoNing  79.0   900.0     4\n",
       "5     male  20.0  172   NaN      ShanDong  91.0     NaN     5\n",
       "6     male  20.0  179  75.0        YunNan  92.0   950.0     5\n",
       "7   female  21.0  166  53.0      LiaoNing  80.0  1200.0     4\n",
       "8   female  20.0  162  47.0         AnHui  78.0  1000.0     4\n",
       "9   female  20.0  162  47.0         AnHui  78.0  1000.0     4\n",
       "10    male  19.0  169  76.0  HeiLongJiang  88.0  1100.0     5"
      ],
      "text/html": "<div>\n<style scoped>\n    .dataframe tbody tr th:only-of-type {\n        vertical-align: middle;\n    }\n\n    .dataframe tbody tr th {\n        vertical-align: top;\n    }\n\n    .dataframe thead th {\n        text-align: right;\n    }\n</style>\n<table border=\"1\" class=\"dataframe\">\n  <thead>\n    <tr style=\"text-align: right;\">\n      <th></th>\n      <th>性别</th>\n      <th>年龄</th>\n      <th>身高</th>\n      <th>体重</th>\n      <th>省份</th>\n      <th>成绩</th>\n      <th>月生活费</th>\n      <th>课程兴趣</th>\n    </tr>\n    <tr>\n      <th>序号</th>\n      <th></th>\n      <th></th>\n      <th></th>\n      <th></th>\n      <th></th>\n      <th></th>\n      <th></th>\n      <th></th>\n    </tr>\n  </thead>\n  <tbody>\n    <tr>\n      <th>1</th>\n      <td>male</td>\n      <td>20.0</td>\n      <td>170</td>\n      <td>70.0</td>\n      <td>LiaoNing</td>\n      <td>NaN</td>\n      <td>800.0</td>\n      <td>5</td>\n    </tr>\n    <tr>\n      <th>2</th>\n      <td>male</td>\n      <td>22.0</td>\n      <td>180</td>\n      <td>71.0</td>\n      <td>GuangXi</td>\n      <td>77.0</td>\n      <td>1300.0</td>\n      <td>3</td>\n    </tr>\n    <tr>\n      <th>3</th>\n      <td>male</td>\n      <td>NaN</td>\n      <td>180</td>\n      <td>62.0</td>\n      <td>FuJian</td>\n      <td>57.0</td>\n      <td>1000.0</td>\n      <td>2</td>\n    </tr>\n    <tr>\n      <th>4</th>\n      <td>male</td>\n      <td>20.0</td>\n      <td>177</td>\n      <td>72.0</td>\n      <td>LiaoNing</td>\n      <td>79.0</td>\n      <td>900.0</td>\n      <td>4</td>\n    </tr>\n    <tr>\n      <th>5</th>\n      <td>male</td>\n      <td>20.0</td>\n      <td>172</td>\n      <td>NaN</td>\n      <td>ShanDong</td>\n      <td>91.0</td>\n      <td>NaN</td>\n      <td>5</td>\n    </tr>\n    <tr>\n      <th>6</th>\n      <td>male</td>\n      <td>20.0</td>\n      <td>179</td>\n      <td>75.0</td>\n      <td>YunNan</td>\n      <td>92.0</td>\n      <td>950.0</td>\n      <td>5</td>\n    </tr>\n    <tr>\n      <th>7</th>\n      <td>female</td>\n      <td>21.0</td>\n      <td>166</td>\n      <td>53.0</td>\n      <td>LiaoNing</td>\n      <td>80.0</td>\n      <td>1200.0</td>\n      <td>4</td>\n    </tr>\n    <tr>\n      <th>8</th>\n      <td>female</td>\n      <td>20.0</td>\n      <td>162</td>\n      <td>47.0</td>\n      <td>AnHui</td>\n      <td>78.0</td>\n      <td>1000.0</td>\n      <td>4</td>\n    </tr>\n    <tr>\n      <th>9</th>\n      <td>female</td>\n      <td>20.0</td>\n      <td>162</td>\n      <td>47.0</td>\n      <td>AnHui</td>\n      <td>78.0</td>\n      <td>1000.0</td>\n      <td>4</td>\n    </tr>\n    <tr>\n      <th>10</th>\n      <td>male</td>\n      <td>19.0</td>\n      <td>169</td>\n      <td>76.0</td>\n      <td>HeiLongJiang</td>\n      <td>88.0</td>\n      <td>1100.0</td>\n      <td>5</td>\n    </tr>\n  </tbody>\n</table>\n</div>"
     },
     "metadata": {},
     "execution_count": 156
    }
   ],
   "source": [
    "stuinfo.dropna(axis=1,how='all')"
   ]
  },
  {
   "cell_type": "code",
   "execution_count": 157,
   "metadata": {},
   "outputs": [
    {
     "output_type": "execute_result",
     "data": {
      "text/plain": [
       "        性别    年龄   身高         体重            省份    成绩    月生活费  课程兴趣  案例教学\n",
       "序号                                                                      \n",
       "1     male  20.0  170  70.000000      LiaoNing  80.0   800.0     5   NaN\n",
       "2     male  22.0  180  71.000000       GuangXi  77.0  1300.0     3   NaN\n",
       "3     male   NaN  180  62.000000        FuJian  57.0  1000.0     2   NaN\n",
       "4     male  20.0  177  72.000000      LiaoNing  79.0   900.0     4   NaN\n",
       "5     male  20.0  172  63.666667      ShanDong  91.0     NaN     5   NaN\n",
       "6     male  20.0  179  75.000000        YunNan  92.0   950.0     5   NaN\n",
       "7   female  21.0  166  53.000000      LiaoNing  80.0  1200.0     4   NaN\n",
       "8   female  20.0  162  47.000000         AnHui  78.0  1000.0     4   NaN\n",
       "9   female  20.0  162  47.000000         AnHui  78.0  1000.0     4   NaN\n",
       "10    male  19.0  169  76.000000  HeiLongJiang  88.0  1100.0     5   NaN"
      ],
      "text/html": "<div>\n<style scoped>\n    .dataframe tbody tr th:only-of-type {\n        vertical-align: middle;\n    }\n\n    .dataframe tbody tr th {\n        vertical-align: top;\n    }\n\n    .dataframe thead th {\n        text-align: right;\n    }\n</style>\n<table border=\"1\" class=\"dataframe\">\n  <thead>\n    <tr style=\"text-align: right;\">\n      <th></th>\n      <th>性别</th>\n      <th>年龄</th>\n      <th>身高</th>\n      <th>体重</th>\n      <th>省份</th>\n      <th>成绩</th>\n      <th>月生活费</th>\n      <th>课程兴趣</th>\n      <th>案例教学</th>\n    </tr>\n    <tr>\n      <th>序号</th>\n      <th></th>\n      <th></th>\n      <th></th>\n      <th></th>\n      <th></th>\n      <th></th>\n      <th></th>\n      <th></th>\n      <th></th>\n    </tr>\n  </thead>\n  <tbody>\n    <tr>\n      <th>1</th>\n      <td>male</td>\n      <td>20.0</td>\n      <td>170</td>\n      <td>70.000000</td>\n      <td>LiaoNing</td>\n      <td>80.0</td>\n      <td>800.0</td>\n      <td>5</td>\n      <td>NaN</td>\n    </tr>\n    <tr>\n      <th>2</th>\n      <td>male</td>\n      <td>22.0</td>\n      <td>180</td>\n      <td>71.000000</td>\n      <td>GuangXi</td>\n      <td>77.0</td>\n      <td>1300.0</td>\n      <td>3</td>\n      <td>NaN</td>\n    </tr>\n    <tr>\n      <th>3</th>\n      <td>male</td>\n      <td>NaN</td>\n      <td>180</td>\n      <td>62.000000</td>\n      <td>FuJian</td>\n      <td>57.0</td>\n      <td>1000.0</td>\n      <td>2</td>\n      <td>NaN</td>\n    </tr>\n    <tr>\n      <th>4</th>\n      <td>male</td>\n      <td>20.0</td>\n      <td>177</td>\n      <td>72.000000</td>\n      <td>LiaoNing</td>\n      <td>79.0</td>\n      <td>900.0</td>\n      <td>4</td>\n      <td>NaN</td>\n    </tr>\n    <tr>\n      <th>5</th>\n      <td>male</td>\n      <td>20.0</td>\n      <td>172</td>\n      <td>63.666667</td>\n      <td>ShanDong</td>\n      <td>91.0</td>\n      <td>NaN</td>\n      <td>5</td>\n      <td>NaN</td>\n    </tr>\n    <tr>\n      <th>6</th>\n      <td>male</td>\n      <td>20.0</td>\n      <td>179</td>\n      <td>75.000000</td>\n      <td>YunNan</td>\n      <td>92.0</td>\n      <td>950.0</td>\n      <td>5</td>\n      <td>NaN</td>\n    </tr>\n    <tr>\n      <th>7</th>\n      <td>female</td>\n      <td>21.0</td>\n      <td>166</td>\n      <td>53.000000</td>\n      <td>LiaoNing</td>\n      <td>80.0</td>\n      <td>1200.0</td>\n      <td>4</td>\n      <td>NaN</td>\n    </tr>\n    <tr>\n      <th>8</th>\n      <td>female</td>\n      <td>20.0</td>\n      <td>162</td>\n      <td>47.000000</td>\n      <td>AnHui</td>\n      <td>78.0</td>\n      <td>1000.0</td>\n      <td>4</td>\n      <td>NaN</td>\n    </tr>\n    <tr>\n      <th>9</th>\n      <td>female</td>\n      <td>20.0</td>\n      <td>162</td>\n      <td>47.000000</td>\n      <td>AnHui</td>\n      <td>78.0</td>\n      <td>1000.0</td>\n      <td>4</td>\n      <td>NaN</td>\n    </tr>\n    <tr>\n      <th>10</th>\n      <td>male</td>\n      <td>19.0</td>\n      <td>169</td>\n      <td>76.000000</td>\n      <td>HeiLongJiang</td>\n      <td>88.0</td>\n      <td>1100.0</td>\n      <td>5</td>\n      <td>NaN</td>\n    </tr>\n  </tbody>\n</table>\n</div>"
     },
     "metadata": {},
     "execution_count": 157
    }
   ],
   "source": [
    "#3.4.2\n",
    "stuinfo.fillna({'体重':stuinfo['体重'].mean(),'成绩':stuinfo['成绩'].mean()})"
   ]
  },
  {
   "cell_type": "code",
   "execution_count": 158,
   "metadata": {},
   "outputs": [
    {
     "output_type": "execute_result",
     "data": {
      "text/plain": [
       "        性别    年龄   身高    体重            省份    成绩    月生活费  课程兴趣  案例教学\n",
       "序号                                                                 \n",
       "1     male  20.0  170  70.0      LiaoNing   NaN   800.0     5   NaN\n",
       "2     male  22.0  180  71.0       GuangXi  77.0  1300.0     3   NaN\n",
       "3     male  22.0  180  62.0        FuJian  57.0  1000.0     2   NaN\n",
       "4     male  20.0  177  72.0      LiaoNing  79.0   900.0     4   NaN\n",
       "5     male  20.0  172   NaN      ShanDong  91.0     NaN     5   NaN\n",
       "6     male  20.0  179  75.0        YunNan  92.0   950.0     5   NaN\n",
       "7   female  21.0  166  53.0      LiaoNing  80.0  1200.0     4   NaN\n",
       "8   female  20.0  162  47.0         AnHui  78.0  1000.0     4   NaN\n",
       "9   female  20.0  162  47.0         AnHui  78.0  1000.0     4   NaN\n",
       "10    male  19.0  169  76.0  HeiLongJiang  88.0  1100.0     5   NaN"
      ],
      "text/html": "<div>\n<style scoped>\n    .dataframe tbody tr th:only-of-type {\n        vertical-align: middle;\n    }\n\n    .dataframe tbody tr th {\n        vertical-align: top;\n    }\n\n    .dataframe thead th {\n        text-align: right;\n    }\n</style>\n<table border=\"1\" class=\"dataframe\">\n  <thead>\n    <tr style=\"text-align: right;\">\n      <th></th>\n      <th>性别</th>\n      <th>年龄</th>\n      <th>身高</th>\n      <th>体重</th>\n      <th>省份</th>\n      <th>成绩</th>\n      <th>月生活费</th>\n      <th>课程兴趣</th>\n      <th>案例教学</th>\n    </tr>\n    <tr>\n      <th>序号</th>\n      <th></th>\n      <th></th>\n      <th></th>\n      <th></th>\n      <th></th>\n      <th></th>\n      <th></th>\n      <th></th>\n      <th></th>\n    </tr>\n  </thead>\n  <tbody>\n    <tr>\n      <th>1</th>\n      <td>male</td>\n      <td>20.0</td>\n      <td>170</td>\n      <td>70.0</td>\n      <td>LiaoNing</td>\n      <td>NaN</td>\n      <td>800.0</td>\n      <td>5</td>\n      <td>NaN</td>\n    </tr>\n    <tr>\n      <th>2</th>\n      <td>male</td>\n      <td>22.0</td>\n      <td>180</td>\n      <td>71.0</td>\n      <td>GuangXi</td>\n      <td>77.0</td>\n      <td>1300.0</td>\n      <td>3</td>\n      <td>NaN</td>\n    </tr>\n    <tr>\n      <th>3</th>\n      <td>male</td>\n      <td>22.0</td>\n      <td>180</td>\n      <td>62.0</td>\n      <td>FuJian</td>\n      <td>57.0</td>\n      <td>1000.0</td>\n      <td>2</td>\n      <td>NaN</td>\n    </tr>\n    <tr>\n      <th>4</th>\n      <td>male</td>\n      <td>20.0</td>\n      <td>177</td>\n      <td>72.0</td>\n      <td>LiaoNing</td>\n      <td>79.0</td>\n      <td>900.0</td>\n      <td>4</td>\n      <td>NaN</td>\n    </tr>\n    <tr>\n      <th>5</th>\n      <td>male</td>\n      <td>20.0</td>\n      <td>172</td>\n      <td>NaN</td>\n      <td>ShanDong</td>\n      <td>91.0</td>\n      <td>NaN</td>\n      <td>5</td>\n      <td>NaN</td>\n    </tr>\n    <tr>\n      <th>6</th>\n      <td>male</td>\n      <td>20.0</td>\n      <td>179</td>\n      <td>75.0</td>\n      <td>YunNan</td>\n      <td>92.0</td>\n      <td>950.0</td>\n      <td>5</td>\n      <td>NaN</td>\n    </tr>\n    <tr>\n      <th>7</th>\n      <td>female</td>\n      <td>21.0</td>\n      <td>166</td>\n      <td>53.0</td>\n      <td>LiaoNing</td>\n      <td>80.0</td>\n      <td>1200.0</td>\n      <td>4</td>\n      <td>NaN</td>\n    </tr>\n    <tr>\n      <th>8</th>\n      <td>female</td>\n      <td>20.0</td>\n      <td>162</td>\n      <td>47.0</td>\n      <td>AnHui</td>\n      <td>78.0</td>\n      <td>1000.0</td>\n      <td>4</td>\n      <td>NaN</td>\n    </tr>\n    <tr>\n      <th>9</th>\n      <td>female</td>\n      <td>20.0</td>\n      <td>162</td>\n      <td>47.0</td>\n      <td>AnHui</td>\n      <td>78.0</td>\n      <td>1000.0</td>\n      <td>4</td>\n      <td>NaN</td>\n    </tr>\n    <tr>\n      <th>10</th>\n      <td>male</td>\n      <td>19.0</td>\n      <td>169</td>\n      <td>76.0</td>\n      <td>HeiLongJiang</td>\n      <td>88.0</td>\n      <td>1100.0</td>\n      <td>5</td>\n      <td>NaN</td>\n    </tr>\n  </tbody>\n</table>\n</div>"
     },
     "metadata": {},
     "execution_count": 158
    }
   ],
   "source": [
    "stuinfo['年龄']=stuinfo['年龄'].fillna(method='ffill')\n",
    "stuinfo"
   ]
  },
  {
   "cell_type": "code",
   "execution_count": 159,
   "metadata": {},
   "outputs": [
    {
     "output_type": "execute_result",
     "data": {
      "text/plain": [
       "        性别    年龄   身高    体重            省份    成绩    月生活费  课程兴趣  案例教学\n",
       "序号                                                                 \n",
       "1     male  20.0  170  70.0      LiaoNing   NaN   800.0     5   NaN\n",
       "2     male  22.0  180  71.0       GuangXi  77.0  1300.0     3   NaN\n",
       "3     male  22.0  180  62.0        FuJian  57.0  1000.0     2   NaN\n",
       "4     male  20.0  177  72.0      LiaoNing  79.0   900.0     4   NaN\n",
       "5     male  20.0  172   NaN      ShanDong  91.0  1000.0     5   NaN\n",
       "6     male  20.0  179  75.0        YunNan  92.0   950.0     5   NaN\n",
       "7   female  21.0  166  53.0      LiaoNing  80.0  1200.0     4   NaN\n",
       "8   female  20.0  162  47.0         AnHui  78.0  1000.0     4   NaN\n",
       "9   female  20.0  162  47.0         AnHui  78.0  1000.0     4   NaN\n",
       "10    male  19.0  169  76.0  HeiLongJiang  88.0  1100.0     5   NaN"
      ],
      "text/html": "<div>\n<style scoped>\n    .dataframe tbody tr th:only-of-type {\n        vertical-align: middle;\n    }\n\n    .dataframe tbody tr th {\n        vertical-align: top;\n    }\n\n    .dataframe thead th {\n        text-align: right;\n    }\n</style>\n<table border=\"1\" class=\"dataframe\">\n  <thead>\n    <tr style=\"text-align: right;\">\n      <th></th>\n      <th>性别</th>\n      <th>年龄</th>\n      <th>身高</th>\n      <th>体重</th>\n      <th>省份</th>\n      <th>成绩</th>\n      <th>月生活费</th>\n      <th>课程兴趣</th>\n      <th>案例教学</th>\n    </tr>\n    <tr>\n      <th>序号</th>\n      <th></th>\n      <th></th>\n      <th></th>\n      <th></th>\n      <th></th>\n      <th></th>\n      <th></th>\n      <th></th>\n      <th></th>\n    </tr>\n  </thead>\n  <tbody>\n    <tr>\n      <th>1</th>\n      <td>male</td>\n      <td>20.0</td>\n      <td>170</td>\n      <td>70.0</td>\n      <td>LiaoNing</td>\n      <td>NaN</td>\n      <td>800.0</td>\n      <td>5</td>\n      <td>NaN</td>\n    </tr>\n    <tr>\n      <th>2</th>\n      <td>male</td>\n      <td>22.0</td>\n      <td>180</td>\n      <td>71.0</td>\n      <td>GuangXi</td>\n      <td>77.0</td>\n      <td>1300.0</td>\n      <td>3</td>\n      <td>NaN</td>\n    </tr>\n    <tr>\n      <th>3</th>\n      <td>male</td>\n      <td>22.0</td>\n      <td>180</td>\n      <td>62.0</td>\n      <td>FuJian</td>\n      <td>57.0</td>\n      <td>1000.0</td>\n      <td>2</td>\n      <td>NaN</td>\n    </tr>\n    <tr>\n      <th>4</th>\n      <td>male</td>\n      <td>20.0</td>\n      <td>177</td>\n      <td>72.0</td>\n      <td>LiaoNing</td>\n      <td>79.0</td>\n      <td>900.0</td>\n      <td>4</td>\n      <td>NaN</td>\n    </tr>\n    <tr>\n      <th>5</th>\n      <td>male</td>\n      <td>20.0</td>\n      <td>172</td>\n      <td>NaN</td>\n      <td>ShanDong</td>\n      <td>91.0</td>\n      <td>1000.0</td>\n      <td>5</td>\n      <td>NaN</td>\n    </tr>\n    <tr>\n      <th>6</th>\n      <td>male</td>\n      <td>20.0</td>\n      <td>179</td>\n      <td>75.0</td>\n      <td>YunNan</td>\n      <td>92.0</td>\n      <td>950.0</td>\n      <td>5</td>\n      <td>NaN</td>\n    </tr>\n    <tr>\n      <th>7</th>\n      <td>female</td>\n      <td>21.0</td>\n      <td>166</td>\n      <td>53.0</td>\n      <td>LiaoNing</td>\n      <td>80.0</td>\n      <td>1200.0</td>\n      <td>4</td>\n      <td>NaN</td>\n    </tr>\n    <tr>\n      <th>8</th>\n      <td>female</td>\n      <td>20.0</td>\n      <td>162</td>\n      <td>47.0</td>\n      <td>AnHui</td>\n      <td>78.0</td>\n      <td>1000.0</td>\n      <td>4</td>\n      <td>NaN</td>\n    </tr>\n    <tr>\n      <th>9</th>\n      <td>female</td>\n      <td>20.0</td>\n      <td>162</td>\n      <td>47.0</td>\n      <td>AnHui</td>\n      <td>78.0</td>\n      <td>1000.0</td>\n      <td>4</td>\n      <td>NaN</td>\n    </tr>\n    <tr>\n      <th>10</th>\n      <td>male</td>\n      <td>19.0</td>\n      <td>169</td>\n      <td>76.0</td>\n      <td>HeiLongJiang</td>\n      <td>88.0</td>\n      <td>1100.0</td>\n      <td>5</td>\n      <td>NaN</td>\n    </tr>\n  </tbody>\n</table>\n</div>"
     },
     "metadata": {},
     "execution_count": 159
    }
   ],
   "source": [
    "stuinfo.fillna({'月生活费':stuinfo['月生活费'].median()})"
   ]
  },
  {
   "cell_type": "code",
   "execution_count": 160,
   "metadata": {},
   "outputs": [],
   "source": [
    "#3.5.1\n",
    "data1=pd.read_excel('data\\studentsinfo.xlsx','Group3',index_col=0,usecols=['序号','性别','年龄'])"
   ]
  },
  {
   "cell_type": "code",
   "execution_count": 161,
   "metadata": {},
   "outputs": [],
   "source": [
    "data2=pd.read_excel('data\\studentsinfo.xlsx','Group3',index_col=0,usecols=['序号','身高','体重','成绩'])"
   ]
  },
  {
   "cell_type": "code",
   "execution_count": 162,
   "metadata": {},
   "outputs": [
    {
     "output_type": "execute_result",
     "data": {
      "text/plain": [
       "        性别  年龄   身高  体重  成绩\n",
       "序号                         \n",
       "21  female  21  165  45  93\n",
       "22  female  19  167  42  89\n",
       "23    male  21  169  80  93\n",
       "24  female  21  160  49  59\n",
       "25  female  21  162  54  68\n",
       "26    male  21  181  77  62\n",
       "27  female  21  162  49  65\n",
       "28  female  22  160  52  73\n",
       "29  female  20  161  51  80\n",
       "30  female  20  168  52  98"
      ],
      "text/html": "<div>\n<style scoped>\n    .dataframe tbody tr th:only-of-type {\n        vertical-align: middle;\n    }\n\n    .dataframe tbody tr th {\n        vertical-align: top;\n    }\n\n    .dataframe thead th {\n        text-align: right;\n    }\n</style>\n<table border=\"1\" class=\"dataframe\">\n  <thead>\n    <tr style=\"text-align: right;\">\n      <th></th>\n      <th>性别</th>\n      <th>年龄</th>\n      <th>身高</th>\n      <th>体重</th>\n      <th>成绩</th>\n    </tr>\n    <tr>\n      <th>序号</th>\n      <th></th>\n      <th></th>\n      <th></th>\n      <th></th>\n      <th></th>\n    </tr>\n  </thead>\n  <tbody>\n    <tr>\n      <th>21</th>\n      <td>female</td>\n      <td>21</td>\n      <td>165</td>\n      <td>45</td>\n      <td>93</td>\n    </tr>\n    <tr>\n      <th>22</th>\n      <td>female</td>\n      <td>19</td>\n      <td>167</td>\n      <td>42</td>\n      <td>89</td>\n    </tr>\n    <tr>\n      <th>23</th>\n      <td>male</td>\n      <td>21</td>\n      <td>169</td>\n      <td>80</td>\n      <td>93</td>\n    </tr>\n    <tr>\n      <th>24</th>\n      <td>female</td>\n      <td>21</td>\n      <td>160</td>\n      <td>49</td>\n      <td>59</td>\n    </tr>\n    <tr>\n      <th>25</th>\n      <td>female</td>\n      <td>21</td>\n      <td>162</td>\n      <td>54</td>\n      <td>68</td>\n    </tr>\n    <tr>\n      <th>26</th>\n      <td>male</td>\n      <td>21</td>\n      <td>181</td>\n      <td>77</td>\n      <td>62</td>\n    </tr>\n    <tr>\n      <th>27</th>\n      <td>female</td>\n      <td>21</td>\n      <td>162</td>\n      <td>49</td>\n      <td>65</td>\n    </tr>\n    <tr>\n      <th>28</th>\n      <td>female</td>\n      <td>22</td>\n      <td>160</td>\n      <td>52</td>\n      <td>73</td>\n    </tr>\n    <tr>\n      <th>29</th>\n      <td>female</td>\n      <td>20</td>\n      <td>161</td>\n      <td>51</td>\n      <td>80</td>\n    </tr>\n    <tr>\n      <th>30</th>\n      <td>female</td>\n      <td>20</td>\n      <td>168</td>\n      <td>52</td>\n      <td>98</td>\n    </tr>\n  </tbody>\n</table>\n</div>"
     },
     "metadata": {},
     "execution_count": 162
    }
   ],
   "source": [
    "data1=pd.merge(data1,data2,on='序号',how='inner')\n",
    "data1"
   ]
  },
  {
   "cell_type": "code",
   "execution_count": 163,
   "metadata": {},
   "outputs": [
    {
     "output_type": "execute_result",
     "data": {
      "text/plain": [
       "        性别  年龄   身高  体重  成绩\n",
       "序号                         \n",
       "24  female  21  160  49  59\n",
       "26    male  21  181  77  62\n",
       "27  female  21  162  49  65\n",
       "25  female  21  162  54  68\n",
       "28  female  22  160  52  73\n",
       "29  female  20  161  51  80\n",
       "22  female  19  167  42  89\n",
       "21  female  21  165  45  93\n",
       "23    male  21  169  80  93\n",
       "30  female  20  168  52  98"
      ],
      "text/html": "<div>\n<style scoped>\n    .dataframe tbody tr th:only-of-type {\n        vertical-align: middle;\n    }\n\n    .dataframe tbody tr th {\n        vertical-align: top;\n    }\n\n    .dataframe thead th {\n        text-align: right;\n    }\n</style>\n<table border=\"1\" class=\"dataframe\">\n  <thead>\n    <tr style=\"text-align: right;\">\n      <th></th>\n      <th>性别</th>\n      <th>年龄</th>\n      <th>身高</th>\n      <th>体重</th>\n      <th>成绩</th>\n    </tr>\n    <tr>\n      <th>序号</th>\n      <th></th>\n      <th></th>\n      <th></th>\n      <th></th>\n      <th></th>\n    </tr>\n  </thead>\n  <tbody>\n    <tr>\n      <th>24</th>\n      <td>female</td>\n      <td>21</td>\n      <td>160</td>\n      <td>49</td>\n      <td>59</td>\n    </tr>\n    <tr>\n      <th>26</th>\n      <td>male</td>\n      <td>21</td>\n      <td>181</td>\n      <td>77</td>\n      <td>62</td>\n    </tr>\n    <tr>\n      <th>27</th>\n      <td>female</td>\n      <td>21</td>\n      <td>162</td>\n      <td>49</td>\n      <td>65</td>\n    </tr>\n    <tr>\n      <th>25</th>\n      <td>female</td>\n      <td>21</td>\n      <td>162</td>\n      <td>54</td>\n      <td>68</td>\n    </tr>\n    <tr>\n      <th>28</th>\n      <td>female</td>\n      <td>22</td>\n      <td>160</td>\n      <td>52</td>\n      <td>73</td>\n    </tr>\n    <tr>\n      <th>29</th>\n      <td>female</td>\n      <td>20</td>\n      <td>161</td>\n      <td>51</td>\n      <td>80</td>\n    </tr>\n    <tr>\n      <th>22</th>\n      <td>female</td>\n      <td>19</td>\n      <td>167</td>\n      <td>42</td>\n      <td>89</td>\n    </tr>\n    <tr>\n      <th>21</th>\n      <td>female</td>\n      <td>21</td>\n      <td>165</td>\n      <td>45</td>\n      <td>93</td>\n    </tr>\n    <tr>\n      <th>23</th>\n      <td>male</td>\n      <td>21</td>\n      <td>169</td>\n      <td>80</td>\n      <td>93</td>\n    </tr>\n    <tr>\n      <th>30</th>\n      <td>female</td>\n      <td>20</td>\n      <td>168</td>\n      <td>52</td>\n      <td>98</td>\n    </tr>\n  </tbody>\n</table>\n</div>"
     },
     "metadata": {},
     "execution_count": 163
    }
   ],
   "source": [
    "#3.5.2\n",
    "data1.sort_values(by='成绩',ascending=True)"
   ]
  },
  {
   "cell_type": "code",
   "execution_count": 164,
   "metadata": {},
   "outputs": [
    {
     "output_type": "execute_result",
     "data": {
      "text/plain": [
       "        性别  年龄   身高  体重  成绩  身高排名\n",
       "序号                               \n",
       "21  female  21  165  45  93   5.0\n",
       "22  female  19  167  42  89   4.0\n",
       "23    male  21  169  80  93   2.0\n",
       "24  female  21  160  49  59   9.0\n",
       "25  female  21  162  54  68   6.0\n",
       "26    male  21  181  77  62   1.0\n",
       "27  female  21  162  49  65   6.0\n",
       "28  female  22  160  52  73   9.0\n",
       "29  female  20  161  51  80   8.0\n",
       "30  female  20  168  52  98   3.0"
      ],
      "text/html": "<div>\n<style scoped>\n    .dataframe tbody tr th:only-of-type {\n        vertical-align: middle;\n    }\n\n    .dataframe tbody tr th {\n        vertical-align: top;\n    }\n\n    .dataframe thead th {\n        text-align: right;\n    }\n</style>\n<table border=\"1\" class=\"dataframe\">\n  <thead>\n    <tr style=\"text-align: right;\">\n      <th></th>\n      <th>性别</th>\n      <th>年龄</th>\n      <th>身高</th>\n      <th>体重</th>\n      <th>成绩</th>\n      <th>身高排名</th>\n    </tr>\n    <tr>\n      <th>序号</th>\n      <th></th>\n      <th></th>\n      <th></th>\n      <th></th>\n      <th></th>\n      <th></th>\n    </tr>\n  </thead>\n  <tbody>\n    <tr>\n      <th>21</th>\n      <td>female</td>\n      <td>21</td>\n      <td>165</td>\n      <td>45</td>\n      <td>93</td>\n      <td>5.0</td>\n    </tr>\n    <tr>\n      <th>22</th>\n      <td>female</td>\n      <td>19</td>\n      <td>167</td>\n      <td>42</td>\n      <td>89</td>\n      <td>4.0</td>\n    </tr>\n    <tr>\n      <th>23</th>\n      <td>male</td>\n      <td>21</td>\n      <td>169</td>\n      <td>80</td>\n      <td>93</td>\n      <td>2.0</td>\n    </tr>\n    <tr>\n      <th>24</th>\n      <td>female</td>\n      <td>21</td>\n      <td>160</td>\n      <td>49</td>\n      <td>59</td>\n      <td>9.0</td>\n    </tr>\n    <tr>\n      <th>25</th>\n      <td>female</td>\n      <td>21</td>\n      <td>162</td>\n      <td>54</td>\n      <td>68</td>\n      <td>6.0</td>\n    </tr>\n    <tr>\n      <th>26</th>\n      <td>male</td>\n      <td>21</td>\n      <td>181</td>\n      <td>77</td>\n      <td>62</td>\n      <td>1.0</td>\n    </tr>\n    <tr>\n      <th>27</th>\n      <td>female</td>\n      <td>21</td>\n      <td>162</td>\n      <td>49</td>\n      <td>65</td>\n      <td>6.0</td>\n    </tr>\n    <tr>\n      <th>28</th>\n      <td>female</td>\n      <td>22</td>\n      <td>160</td>\n      <td>52</td>\n      <td>73</td>\n      <td>9.0</td>\n    </tr>\n    <tr>\n      <th>29</th>\n      <td>female</td>\n      <td>20</td>\n      <td>161</td>\n      <td>51</td>\n      <td>80</td>\n      <td>8.0</td>\n    </tr>\n    <tr>\n      <th>30</th>\n      <td>female</td>\n      <td>20</td>\n      <td>168</td>\n      <td>52</td>\n      <td>98</td>\n      <td>3.0</td>\n    </tr>\n  </tbody>\n</table>\n</div>"
     },
     "metadata": {},
     "execution_count": 164
    }
   ],
   "source": [
    "data1['身高排名']=data1['身高'].rank(method='min',ascending=False)\n",
    "data1"
   ]
  },
  {
   "cell_type": "code",
   "execution_count": 165,
   "metadata": {},
   "outputs": [
    {
     "output_type": "execute_result",
     "data": {
      "text/plain": [
       "       星期   节次          课程名称     实验项目名称  实验课时数 实验类型        班级  班级人数 二级实验室名称  \\\n",
       "周次                                                                            \n",
       "2.0   1.0  5~7          数据结构   顺序表的基本操作    3.0  验证型   数据科学181  24.0   基础实验室   \n",
       "4.0   1.0  5~7          数据结构    链表的基本操作    3.0  验证型   数据科学181  24.0   基础实验室   \n",
       "6.0   1.0  5~7          数据结构     栈的基本运算    3.0  验证型   数据科学181  24.0   基础实验室   \n",
       "8.0   1.0  5~7          数据结构     二叉树的操作    3.0  验证型   数据科学181  24.0   基础实验室   \n",
       "10.0  1.0  5~7          数据结构     马踏棋盘问题    3.0  验证型   数据科学181  24.0   基础实验室   \n",
       "...   ...  ...           ...        ...    ...  ...       ...   ...     ...   \n",
       "4.0   3.0  5-8  Python语言程序设计      字符串使用    4.0  验证型  大数据应用191  34.0   基础实验室   \n",
       "5.0   3.0  5-8  Python语言程序设计     函数与类设计    4.0  验证型  大数据应用191  34.0   基础实验室   \n",
       "6.0   3.0  5-8  Python语言程序设计  文件操作与异常处理    4.0  验证型  大数据应用191  34.0   基础实验室   \n",
       "7.0   3.0  5-8  Python语言程序设计       界面设计    4.0  验证型  大数据应用191  34.0   基础实验室   \n",
       "8.0   3.0  5-8  Python语言程序设计     综合程序设计    4.0  综合型  大数据应用191  34.0   基础实验室   \n",
       "\n",
       "     实验地点门牌号  \n",
       "周次            \n",
       "2.0   11-505  \n",
       "4.0   11-505  \n",
       "6.0   11-505  \n",
       "8.0   11-505  \n",
       "10.0  11-505  \n",
       "...      ...  \n",
       "4.0   11-505  \n",
       "5.0   11-505  \n",
       "6.0   11-505  \n",
       "7.0   11-505  \n",
       "8.0   11-505  \n",
       "\n",
       "[96 rows x 10 columns]"
      ],
      "text/html": "<div>\n<style scoped>\n    .dataframe tbody tr th:only-of-type {\n        vertical-align: middle;\n    }\n\n    .dataframe tbody tr th {\n        vertical-align: top;\n    }\n\n    .dataframe thead th {\n        text-align: right;\n    }\n</style>\n<table border=\"1\" class=\"dataframe\">\n  <thead>\n    <tr style=\"text-align: right;\">\n      <th></th>\n      <th>星期</th>\n      <th>节次</th>\n      <th>课程名称</th>\n      <th>实验项目名称</th>\n      <th>实验课时数</th>\n      <th>实验类型</th>\n      <th>班级</th>\n      <th>班级人数</th>\n      <th>二级实验室名称</th>\n      <th>实验地点门牌号</th>\n    </tr>\n    <tr>\n      <th>周次</th>\n      <th></th>\n      <th></th>\n      <th></th>\n      <th></th>\n      <th></th>\n      <th></th>\n      <th></th>\n      <th></th>\n      <th></th>\n      <th></th>\n    </tr>\n  </thead>\n  <tbody>\n    <tr>\n      <th>2.0</th>\n      <td>1.0</td>\n      <td>5~7</td>\n      <td>数据结构</td>\n      <td>顺序表的基本操作</td>\n      <td>3.0</td>\n      <td>验证型</td>\n      <td>数据科学181</td>\n      <td>24.0</td>\n      <td>基础实验室</td>\n      <td>11-505</td>\n    </tr>\n    <tr>\n      <th>4.0</th>\n      <td>1.0</td>\n      <td>5~7</td>\n      <td>数据结构</td>\n      <td>链表的基本操作</td>\n      <td>3.0</td>\n      <td>验证型</td>\n      <td>数据科学181</td>\n      <td>24.0</td>\n      <td>基础实验室</td>\n      <td>11-505</td>\n    </tr>\n    <tr>\n      <th>6.0</th>\n      <td>1.0</td>\n      <td>5~7</td>\n      <td>数据结构</td>\n      <td>栈的基本运算</td>\n      <td>3.0</td>\n      <td>验证型</td>\n      <td>数据科学181</td>\n      <td>24.0</td>\n      <td>基础实验室</td>\n      <td>11-505</td>\n    </tr>\n    <tr>\n      <th>8.0</th>\n      <td>1.0</td>\n      <td>5~7</td>\n      <td>数据结构</td>\n      <td>二叉树的操作</td>\n      <td>3.0</td>\n      <td>验证型</td>\n      <td>数据科学181</td>\n      <td>24.0</td>\n      <td>基础实验室</td>\n      <td>11-505</td>\n    </tr>\n    <tr>\n      <th>10.0</th>\n      <td>1.0</td>\n      <td>5~7</td>\n      <td>数据结构</td>\n      <td>马踏棋盘问题</td>\n      <td>3.0</td>\n      <td>验证型</td>\n      <td>数据科学181</td>\n      <td>24.0</td>\n      <td>基础实验室</td>\n      <td>11-505</td>\n    </tr>\n    <tr>\n      <th>...</th>\n      <td>...</td>\n      <td>...</td>\n      <td>...</td>\n      <td>...</td>\n      <td>...</td>\n      <td>...</td>\n      <td>...</td>\n      <td>...</td>\n      <td>...</td>\n      <td>...</td>\n    </tr>\n    <tr>\n      <th>4.0</th>\n      <td>3.0</td>\n      <td>5-8</td>\n      <td>Python语言程序设计</td>\n      <td>字符串使用</td>\n      <td>4.0</td>\n      <td>验证型</td>\n      <td>大数据应用191</td>\n      <td>34.0</td>\n      <td>基础实验室</td>\n      <td>11-505</td>\n    </tr>\n    <tr>\n      <th>5.0</th>\n      <td>3.0</td>\n      <td>5-8</td>\n      <td>Python语言程序设计</td>\n      <td>函数与类设计</td>\n      <td>4.0</td>\n      <td>验证型</td>\n      <td>大数据应用191</td>\n      <td>34.0</td>\n      <td>基础实验室</td>\n      <td>11-505</td>\n    </tr>\n    <tr>\n      <th>6.0</th>\n      <td>3.0</td>\n      <td>5-8</td>\n      <td>Python语言程序设计</td>\n      <td>文件操作与异常处理</td>\n      <td>4.0</td>\n      <td>验证型</td>\n      <td>大数据应用191</td>\n      <td>34.0</td>\n      <td>基础实验室</td>\n      <td>11-505</td>\n    </tr>\n    <tr>\n      <th>7.0</th>\n      <td>3.0</td>\n      <td>5-8</td>\n      <td>Python语言程序设计</td>\n      <td>界面设计</td>\n      <td>4.0</td>\n      <td>验证型</td>\n      <td>大数据应用191</td>\n      <td>34.0</td>\n      <td>基础实验室</td>\n      <td>11-505</td>\n    </tr>\n    <tr>\n      <th>8.0</th>\n      <td>3.0</td>\n      <td>5-8</td>\n      <td>Python语言程序设计</td>\n      <td>综合程序设计</td>\n      <td>4.0</td>\n      <td>综合型</td>\n      <td>大数据应用191</td>\n      <td>34.0</td>\n      <td>基础实验室</td>\n      <td>11-505</td>\n    </tr>\n  </tbody>\n</table>\n<p>96 rows × 10 columns</p>\n</div>"
     },
     "metadata": {},
     "execution_count": 165
    }
   ],
   "source": [
    "#综合练习题\n",
    "tplan=pd.read_excel('data\\DataScience.xls',index_col=0)\n",
    "tplan"
   ]
  },
  {
   "cell_type": "code",
   "execution_count": 166,
   "metadata": {},
   "outputs": [
    {
     "output_type": "execute_result",
     "data": {
      "text/plain": [
       "       星期   节次          课程名称     实验项目名称  实验课时数 实验类型        班级  班级人数 二级实验室名称  \\\n",
       "周次                                                                            \n",
       "2.0   1.0  5~7          数据结构   顺序表的基本操作    3.0  验证型   数据科学181  24.0   基础实验室   \n",
       "4.0   1.0  5~7          数据结构    链表的基本操作    3.0  验证型   数据科学181  24.0   基础实验室   \n",
       "6.0   1.0  5~7          数据结构     栈的基本运算    3.0  验证型   数据科学181  24.0   基础实验室   \n",
       "8.0   1.0  5~7          数据结构     二叉树的操作    3.0  验证型   数据科学181  24.0   基础实验室   \n",
       "10.0  1.0  5~7          数据结构     马踏棋盘问题    3.0  验证型   数据科学181  24.0   基础实验室   \n",
       "...   ...  ...           ...        ...    ...  ...       ...   ...     ...   \n",
       "4.0   3.0  5-8  Python语言程序设计      字符串使用    4.0  验证型  大数据应用191  34.0   基础实验室   \n",
       "5.0   3.0  5-8  Python语言程序设计     函数与类设计    4.0  验证型  大数据应用191  34.0   基础实验室   \n",
       "6.0   3.0  5-8  Python语言程序设计  文件操作与异常处理    4.0  验证型  大数据应用191  34.0   基础实验室   \n",
       "7.0   3.0  5-8  Python语言程序设计       界面设计    4.0  验证型  大数据应用191  34.0   基础实验室   \n",
       "8.0   3.0  5-8  Python语言程序设计     综合程序设计    4.0  综合型  大数据应用191  34.0   基础实验室   \n",
       "\n",
       "     实验地点门牌号  \n",
       "周次            \n",
       "2.0   11-505  \n",
       "4.0   11-505  \n",
       "6.0   11-505  \n",
       "8.0   11-505  \n",
       "10.0  11-505  \n",
       "...      ...  \n",
       "4.0   11-505  \n",
       "5.0   11-505  \n",
       "6.0   11-505  \n",
       "7.0   11-505  \n",
       "8.0   11-505  \n",
       "\n",
       "[89 rows x 10 columns]"
      ],
      "text/html": "<div>\n<style scoped>\n    .dataframe tbody tr th:only-of-type {\n        vertical-align: middle;\n    }\n\n    .dataframe tbody tr th {\n        vertical-align: top;\n    }\n\n    .dataframe thead th {\n        text-align: right;\n    }\n</style>\n<table border=\"1\" class=\"dataframe\">\n  <thead>\n    <tr style=\"text-align: right;\">\n      <th></th>\n      <th>星期</th>\n      <th>节次</th>\n      <th>课程名称</th>\n      <th>实验项目名称</th>\n      <th>实验课时数</th>\n      <th>实验类型</th>\n      <th>班级</th>\n      <th>班级人数</th>\n      <th>二级实验室名称</th>\n      <th>实验地点门牌号</th>\n    </tr>\n    <tr>\n      <th>周次</th>\n      <th></th>\n      <th></th>\n      <th></th>\n      <th></th>\n      <th></th>\n      <th></th>\n      <th></th>\n      <th></th>\n      <th></th>\n      <th></th>\n    </tr>\n  </thead>\n  <tbody>\n    <tr>\n      <th>2.0</th>\n      <td>1.0</td>\n      <td>5~7</td>\n      <td>数据结构</td>\n      <td>顺序表的基本操作</td>\n      <td>3.0</td>\n      <td>验证型</td>\n      <td>数据科学181</td>\n      <td>24.0</td>\n      <td>基础实验室</td>\n      <td>11-505</td>\n    </tr>\n    <tr>\n      <th>4.0</th>\n      <td>1.0</td>\n      <td>5~7</td>\n      <td>数据结构</td>\n      <td>链表的基本操作</td>\n      <td>3.0</td>\n      <td>验证型</td>\n      <td>数据科学181</td>\n      <td>24.0</td>\n      <td>基础实验室</td>\n      <td>11-505</td>\n    </tr>\n    <tr>\n      <th>6.0</th>\n      <td>1.0</td>\n      <td>5~7</td>\n      <td>数据结构</td>\n      <td>栈的基本运算</td>\n      <td>3.0</td>\n      <td>验证型</td>\n      <td>数据科学181</td>\n      <td>24.0</td>\n      <td>基础实验室</td>\n      <td>11-505</td>\n    </tr>\n    <tr>\n      <th>8.0</th>\n      <td>1.0</td>\n      <td>5~7</td>\n      <td>数据结构</td>\n      <td>二叉树的操作</td>\n      <td>3.0</td>\n      <td>验证型</td>\n      <td>数据科学181</td>\n      <td>24.0</td>\n      <td>基础实验室</td>\n      <td>11-505</td>\n    </tr>\n    <tr>\n      <th>10.0</th>\n      <td>1.0</td>\n      <td>5~7</td>\n      <td>数据结构</td>\n      <td>马踏棋盘问题</td>\n      <td>3.0</td>\n      <td>验证型</td>\n      <td>数据科学181</td>\n      <td>24.0</td>\n      <td>基础实验室</td>\n      <td>11-505</td>\n    </tr>\n    <tr>\n      <th>...</th>\n      <td>...</td>\n      <td>...</td>\n      <td>...</td>\n      <td>...</td>\n      <td>...</td>\n      <td>...</td>\n      <td>...</td>\n      <td>...</td>\n      <td>...</td>\n      <td>...</td>\n    </tr>\n    <tr>\n      <th>4.0</th>\n      <td>3.0</td>\n      <td>5-8</td>\n      <td>Python语言程序设计</td>\n      <td>字符串使用</td>\n      <td>4.0</td>\n      <td>验证型</td>\n      <td>大数据应用191</td>\n      <td>34.0</td>\n      <td>基础实验室</td>\n      <td>11-505</td>\n    </tr>\n    <tr>\n      <th>5.0</th>\n      <td>3.0</td>\n      <td>5-8</td>\n      <td>Python语言程序设计</td>\n      <td>函数与类设计</td>\n      <td>4.0</td>\n      <td>验证型</td>\n      <td>大数据应用191</td>\n      <td>34.0</td>\n      <td>基础实验室</td>\n      <td>11-505</td>\n    </tr>\n    <tr>\n      <th>6.0</th>\n      <td>3.0</td>\n      <td>5-8</td>\n      <td>Python语言程序设计</td>\n      <td>文件操作与异常处理</td>\n      <td>4.0</td>\n      <td>验证型</td>\n      <td>大数据应用191</td>\n      <td>34.0</td>\n      <td>基础实验室</td>\n      <td>11-505</td>\n    </tr>\n    <tr>\n      <th>7.0</th>\n      <td>3.0</td>\n      <td>5-8</td>\n      <td>Python语言程序设计</td>\n      <td>界面设计</td>\n      <td>4.0</td>\n      <td>验证型</td>\n      <td>大数据应用191</td>\n      <td>34.0</td>\n      <td>基础实验室</td>\n      <td>11-505</td>\n    </tr>\n    <tr>\n      <th>8.0</th>\n      <td>3.0</td>\n      <td>5-8</td>\n      <td>Python语言程序设计</td>\n      <td>综合程序设计</td>\n      <td>4.0</td>\n      <td>综合型</td>\n      <td>大数据应用191</td>\n      <td>34.0</td>\n      <td>基础实验室</td>\n      <td>11-505</td>\n    </tr>\n  </tbody>\n</table>\n<p>89 rows × 10 columns</p>\n</div>"
     },
     "metadata": {},
     "execution_count": 166
    }
   ],
   "source": [
    "pre=tplan[tplan.isna().any(axis=1)]\n",
    "tplan.dropna()"
   ]
  },
  {
   "cell_type": "code",
   "execution_count": 167,
   "metadata": {},
   "outputs": [],
   "source": [
    "pre.to_csv('pre.csv',mode='w',header=True,index=True,encoding='utf_8_sig')"
   ]
  },
  {
   "cell_type": "code",
   "execution_count": 168,
   "metadata": {},
   "outputs": [
    {
     "output_type": "execute_result",
     "data": {
      "text/plain": [
       "              课程名称     实验项目名称 实验类型 二级实验室名称\n",
       "周次                                        \n",
       "2.0           数据结构   顺序表的基本操作  验证型   基础实验室\n",
       "4.0           数据结构    链表的基本操作  验证型   基础实验室\n",
       "6.0           数据结构     栈的基本运算  验证型   基础实验室\n",
       "8.0           数据结构     二叉树的操作  验证型   基础实验室\n",
       "10.0          数据结构     马踏棋盘问题  验证型   基础实验室\n",
       "...            ...        ...  ...     ...\n",
       "4.0   Python语言程序设计      字符串使用  验证型   基础实验室\n",
       "5.0   Python语言程序设计     函数与类设计  验证型   基础实验室\n",
       "6.0   Python语言程序设计  文件操作与异常处理  验证型   基础实验室\n",
       "7.0   Python语言程序设计       界面设计  验证型   基础实验室\n",
       "8.0   Python语言程序设计     综合程序设计  综合型   基础实验室\n",
       "\n",
       "[96 rows x 4 columns]"
      ],
      "text/html": "<div>\n<style scoped>\n    .dataframe tbody tr th:only-of-type {\n        vertical-align: middle;\n    }\n\n    .dataframe tbody tr th {\n        vertical-align: top;\n    }\n\n    .dataframe thead th {\n        text-align: right;\n    }\n</style>\n<table border=\"1\" class=\"dataframe\">\n  <thead>\n    <tr style=\"text-align: right;\">\n      <th></th>\n      <th>课程名称</th>\n      <th>实验项目名称</th>\n      <th>实验类型</th>\n      <th>二级实验室名称</th>\n    </tr>\n    <tr>\n      <th>周次</th>\n      <th></th>\n      <th></th>\n      <th></th>\n      <th></th>\n    </tr>\n  </thead>\n  <tbody>\n    <tr>\n      <th>2.0</th>\n      <td>数据结构</td>\n      <td>顺序表的基本操作</td>\n      <td>验证型</td>\n      <td>基础实验室</td>\n    </tr>\n    <tr>\n      <th>4.0</th>\n      <td>数据结构</td>\n      <td>链表的基本操作</td>\n      <td>验证型</td>\n      <td>基础实验室</td>\n    </tr>\n    <tr>\n      <th>6.0</th>\n      <td>数据结构</td>\n      <td>栈的基本运算</td>\n      <td>验证型</td>\n      <td>基础实验室</td>\n    </tr>\n    <tr>\n      <th>8.0</th>\n      <td>数据结构</td>\n      <td>二叉树的操作</td>\n      <td>验证型</td>\n      <td>基础实验室</td>\n    </tr>\n    <tr>\n      <th>10.0</th>\n      <td>数据结构</td>\n      <td>马踏棋盘问题</td>\n      <td>验证型</td>\n      <td>基础实验室</td>\n    </tr>\n    <tr>\n      <th>...</th>\n      <td>...</td>\n      <td>...</td>\n      <td>...</td>\n      <td>...</td>\n    </tr>\n    <tr>\n      <th>4.0</th>\n      <td>Python语言程序设计</td>\n      <td>字符串使用</td>\n      <td>验证型</td>\n      <td>基础实验室</td>\n    </tr>\n    <tr>\n      <th>5.0</th>\n      <td>Python语言程序设计</td>\n      <td>函数与类设计</td>\n      <td>验证型</td>\n      <td>基础实验室</td>\n    </tr>\n    <tr>\n      <th>6.0</th>\n      <td>Python语言程序设计</td>\n      <td>文件操作与异常处理</td>\n      <td>验证型</td>\n      <td>基础实验室</td>\n    </tr>\n    <tr>\n      <th>7.0</th>\n      <td>Python语言程序设计</td>\n      <td>界面设计</td>\n      <td>验证型</td>\n      <td>基础实验室</td>\n    </tr>\n    <tr>\n      <th>8.0</th>\n      <td>Python语言程序设计</td>\n      <td>综合程序设计</td>\n      <td>综合型</td>\n      <td>基础实验室</td>\n    </tr>\n  </tbody>\n</table>\n<p>96 rows × 4 columns</p>\n</div>"
     },
     "metadata": {},
     "execution_count": 168
    }
   ],
   "source": [
    "tplan[['课程名称','实验项目名称','实验类型','二级实验室名称']]"
   ]
  },
  {
   "cell_type": "code",
   "execution_count": 169,
   "metadata": {},
   "outputs": [
    {
     "output_type": "execute_result",
     "data": {
      "text/plain": [
       "              实验课时数\n",
       "课程名称               \n",
       "Python语言程序设计   64.0\n",
       "商务数据分析         24.0\n",
       "大数据技术          32.0\n",
       "数据挖掘与机器学习      64.0\n",
       "数据科学导论         45.0\n",
       "数据结构           24.0"
      ],
      "text/html": "<div>\n<style scoped>\n    .dataframe tbody tr th:only-of-type {\n        vertical-align: middle;\n    }\n\n    .dataframe tbody tr th {\n        vertical-align: top;\n    }\n\n    .dataframe thead th {\n        text-align: right;\n    }\n</style>\n<table border=\"1\" class=\"dataframe\">\n  <thead>\n    <tr style=\"text-align: right;\">\n      <th></th>\n      <th>实验课时数</th>\n    </tr>\n    <tr>\n      <th>课程名称</th>\n      <th></th>\n    </tr>\n  </thead>\n  <tbody>\n    <tr>\n      <th>Python语言程序设计</th>\n      <td>64.0</td>\n    </tr>\n    <tr>\n      <th>商务数据分析</th>\n      <td>24.0</td>\n    </tr>\n    <tr>\n      <th>大数据技术</th>\n      <td>32.0</td>\n    </tr>\n    <tr>\n      <th>数据挖掘与机器学习</th>\n      <td>64.0</td>\n    </tr>\n    <tr>\n      <th>数据科学导论</th>\n      <td>45.0</td>\n    </tr>\n    <tr>\n      <th>数据结构</th>\n      <td>24.0</td>\n    </tr>\n  </tbody>\n</table>\n</div>"
     },
     "metadata": {},
     "execution_count": 169
    }
   ],
   "source": [
    "grouped=tplan.groupby(['课程名称'])\n",
    "grouped.aggregate({'实验课时数':np.sum})"
   ]
  },
  {
   "cell_type": "code",
   "execution_count": 170,
   "metadata": {},
   "outputs": [
    {
     "output_type": "execute_result",
     "data": {
      "text/plain": [
       "                   实验课时数\n",
       "周次   课程名称               \n",
       "1.0  Python语言程序设计    8.0\n",
       "     大数据技术           2.0\n",
       "     数据挖掘与机器学习       4.0\n",
       "2.0  Python语言程序设计    8.0\n",
       "     大数据技术           2.0\n",
       "...                  ...\n",
       "15.0 数据科学导论          6.0\n",
       "16.0 大数据技术           2.0\n",
       "     数据挖掘与机器学习       4.0\n",
       "     数据科学导论          3.0\n",
       "     数据结构            3.0\n",
       "\n",
       "[62 rows x 1 columns]"
      ],
      "text/html": "<div>\n<style scoped>\n    .dataframe tbody tr th:only-of-type {\n        vertical-align: middle;\n    }\n\n    .dataframe tbody tr th {\n        vertical-align: top;\n    }\n\n    .dataframe thead th {\n        text-align: right;\n    }\n</style>\n<table border=\"1\" class=\"dataframe\">\n  <thead>\n    <tr style=\"text-align: right;\">\n      <th></th>\n      <th></th>\n      <th>实验课时数</th>\n    </tr>\n    <tr>\n      <th>周次</th>\n      <th>课程名称</th>\n      <th></th>\n    </tr>\n  </thead>\n  <tbody>\n    <tr>\n      <th rowspan=\"3\" valign=\"top\">1.0</th>\n      <th>Python语言程序设计</th>\n      <td>8.0</td>\n    </tr>\n    <tr>\n      <th>大数据技术</th>\n      <td>2.0</td>\n    </tr>\n    <tr>\n      <th>数据挖掘与机器学习</th>\n      <td>4.0</td>\n    </tr>\n    <tr>\n      <th rowspan=\"2\" valign=\"top\">2.0</th>\n      <th>Python语言程序设计</th>\n      <td>8.0</td>\n    </tr>\n    <tr>\n      <th>大数据技术</th>\n      <td>2.0</td>\n    </tr>\n    <tr>\n      <th>...</th>\n      <th>...</th>\n      <td>...</td>\n    </tr>\n    <tr>\n      <th>15.0</th>\n      <th>数据科学导论</th>\n      <td>6.0</td>\n    </tr>\n    <tr>\n      <th rowspan=\"4\" valign=\"top\">16.0</th>\n      <th>大数据技术</th>\n      <td>2.0</td>\n    </tr>\n    <tr>\n      <th>数据挖掘与机器学习</th>\n      <td>4.0</td>\n    </tr>\n    <tr>\n      <th>数据科学导论</th>\n      <td>3.0</td>\n    </tr>\n    <tr>\n      <th>数据结构</th>\n      <td>3.0</td>\n    </tr>\n  </tbody>\n</table>\n<p>62 rows × 1 columns</p>\n</div>"
     },
     "metadata": {},
     "execution_count": 170
    }
   ],
   "source": [
    "grouped=tplan.groupby(['周次','课程名称'])\n",
    "grouped.aggregate({'实验课时数':np.sum})"
   ]
  },
  {
   "cell_type": "code",
   "execution_count": 171,
   "metadata": {},
   "outputs": [
    {
     "output_type": "execute_result",
     "data": {
      "text/plain": [
       "实验类型          实训  综合型  设计型  验证型\n",
       "课程名称                           \n",
       "Python语言程序设计   0    2    0   14\n",
       "商务数据分析         6    0    0    0\n",
       "大数据技术          0    3    7    6\n",
       "数据挖掘与机器学习      0    2   10   20\n",
       "数据科学导论         0    3    3    8\n",
       "数据结构           0    0    0    8"
      ],
      "text/html": "<div>\n<style scoped>\n    .dataframe tbody tr th:only-of-type {\n        vertical-align: middle;\n    }\n\n    .dataframe tbody tr th {\n        vertical-align: top;\n    }\n\n    .dataframe thead th {\n        text-align: right;\n    }\n</style>\n<table border=\"1\" class=\"dataframe\">\n  <thead>\n    <tr style=\"text-align: right;\">\n      <th>实验类型</th>\n      <th>实训</th>\n      <th>综合型</th>\n      <th>设计型</th>\n      <th>验证型</th>\n    </tr>\n    <tr>\n      <th>课程名称</th>\n      <th></th>\n      <th></th>\n      <th></th>\n      <th></th>\n    </tr>\n  </thead>\n  <tbody>\n    <tr>\n      <th>Python语言程序设计</th>\n      <td>0</td>\n      <td>2</td>\n      <td>0</td>\n      <td>14</td>\n    </tr>\n    <tr>\n      <th>商务数据分析</th>\n      <td>6</td>\n      <td>0</td>\n      <td>0</td>\n      <td>0</td>\n    </tr>\n    <tr>\n      <th>大数据技术</th>\n      <td>0</td>\n      <td>3</td>\n      <td>7</td>\n      <td>6</td>\n    </tr>\n    <tr>\n      <th>数据挖掘与机器学习</th>\n      <td>0</td>\n      <td>2</td>\n      <td>10</td>\n      <td>20</td>\n    </tr>\n    <tr>\n      <th>数据科学导论</th>\n      <td>0</td>\n      <td>3</td>\n      <td>3</td>\n      <td>8</td>\n    </tr>\n    <tr>\n      <th>数据结构</th>\n      <td>0</td>\n      <td>0</td>\n      <td>0</td>\n      <td>8</td>\n    </tr>\n  </tbody>\n</table>\n</div>"
     },
     "metadata": {},
     "execution_count": 171
    }
   ],
   "source": [
    "pd.crosstab(tplan['课程名称'],tplan['实验类型'])"
   ]
  },
  {
   "cell_type": "code",
   "execution_count": 172,
   "metadata": {},
   "outputs": [
    {
     "output_type": "execute_result",
     "data": {
      "text/plain": [
       "      星期   节次          课程名称           实验项目名称  实验课时数 实验类型           班级  班级人数  \\\n",
       "周次                                                                            \n",
       "1.0  4.0  3～4         大数据技术  Hadoop安装与HDFS使用    2.0  验证型     大数据应用171  38.0   \n",
       "2.0  3.0  7~8     数据挖掘与机器学习             树、规则    2.0  验证型     大数据应用171  25.0   \n",
       "2.0  4.0  3～4         大数据技术    MapReduce编程基础    2.0  验证型     大数据应用171  38.0   \n",
       "3.0  3.0  7~8     数据挖掘与机器学习           最佳回归系数    2.0  验证型     大数据应用171  25.0   \n",
       "3.0  4.0  3～4         大数据技术         HBase的使用    2.0  验证型     大数据应用171  38.0   \n",
       "..   ...  ...           ...              ...    ...  ...          ...   ...   \n",
       "6.0  2.0  1-4  Python语言程序设计        文件操作与异常处理    4.0  验证型  数据科学（卓越）191  30.0   \n",
       "7.0  2.0  1-4  Python语言程序设计             界面设计    4.0  验证型  数据科学（卓越）191  30.0   \n",
       "8.0  2.0  1-4  Python语言程序设计           综合程序设计    4.0  综合型  数据科学（卓越）191  30.0   \n",
       "NaN  NaN  NaN           NaN              NaN    NaN  NaN          NaN   NaN   \n",
       "NaN  NaN  NaN           NaN              NaN    NaN  NaN          NaN   NaN   \n",
       "\n",
       "     二级实验室名称 实验地点门牌号  \n",
       "周次                    \n",
       "1.0  数据科学实验室  11-309  \n",
       "2.0  人工智能实验室  11-305  \n",
       "2.0  数据科学实验室  11-309  \n",
       "3.0  人工智能实验室  11-305  \n",
       "3.0  数据科学实验室  11-309  \n",
       "..       ...     ...  \n",
       "6.0    基础实验室  11-505  \n",
       "7.0    基础实验室  11-505  \n",
       "8.0    基础实验室  11-505  \n",
       "NaN      NaN     NaN  \n",
       "NaN      NaN     NaN  \n",
       "\n",
       "[96 rows x 10 columns]"
      ],
      "text/html": "<div>\n<style scoped>\n    .dataframe tbody tr th:only-of-type {\n        vertical-align: middle;\n    }\n\n    .dataframe tbody tr th {\n        vertical-align: top;\n    }\n\n    .dataframe thead th {\n        text-align: right;\n    }\n</style>\n<table border=\"1\" class=\"dataframe\">\n  <thead>\n    <tr style=\"text-align: right;\">\n      <th></th>\n      <th>星期</th>\n      <th>节次</th>\n      <th>课程名称</th>\n      <th>实验项目名称</th>\n      <th>实验课时数</th>\n      <th>实验类型</th>\n      <th>班级</th>\n      <th>班级人数</th>\n      <th>二级实验室名称</th>\n      <th>实验地点门牌号</th>\n    </tr>\n    <tr>\n      <th>周次</th>\n      <th></th>\n      <th></th>\n      <th></th>\n      <th></th>\n      <th></th>\n      <th></th>\n      <th></th>\n      <th></th>\n      <th></th>\n      <th></th>\n    </tr>\n  </thead>\n  <tbody>\n    <tr>\n      <th>1.0</th>\n      <td>4.0</td>\n      <td>3～4</td>\n      <td>大数据技术</td>\n      <td>Hadoop安装与HDFS使用</td>\n      <td>2.0</td>\n      <td>验证型</td>\n      <td>大数据应用171</td>\n      <td>38.0</td>\n      <td>数据科学实验室</td>\n      <td>11-309</td>\n    </tr>\n    <tr>\n      <th>2.0</th>\n      <td>3.0</td>\n      <td>7~8</td>\n      <td>数据挖掘与机器学习</td>\n      <td>树、规则</td>\n      <td>2.0</td>\n      <td>验证型</td>\n      <td>大数据应用171</td>\n      <td>25.0</td>\n      <td>人工智能实验室</td>\n      <td>11-305</td>\n    </tr>\n    <tr>\n      <th>2.0</th>\n      <td>4.0</td>\n      <td>3～4</td>\n      <td>大数据技术</td>\n      <td>MapReduce编程基础</td>\n      <td>2.0</td>\n      <td>验证型</td>\n      <td>大数据应用171</td>\n      <td>38.0</td>\n      <td>数据科学实验室</td>\n      <td>11-309</td>\n    </tr>\n    <tr>\n      <th>3.0</th>\n      <td>3.0</td>\n      <td>7~8</td>\n      <td>数据挖掘与机器学习</td>\n      <td>最佳回归系数</td>\n      <td>2.0</td>\n      <td>验证型</td>\n      <td>大数据应用171</td>\n      <td>25.0</td>\n      <td>人工智能实验室</td>\n      <td>11-305</td>\n    </tr>\n    <tr>\n      <th>3.0</th>\n      <td>4.0</td>\n      <td>3～4</td>\n      <td>大数据技术</td>\n      <td>HBase的使用</td>\n      <td>2.0</td>\n      <td>验证型</td>\n      <td>大数据应用171</td>\n      <td>38.0</td>\n      <td>数据科学实验室</td>\n      <td>11-309</td>\n    </tr>\n    <tr>\n      <th>...</th>\n      <td>...</td>\n      <td>...</td>\n      <td>...</td>\n      <td>...</td>\n      <td>...</td>\n      <td>...</td>\n      <td>...</td>\n      <td>...</td>\n      <td>...</td>\n      <td>...</td>\n    </tr>\n    <tr>\n      <th>6.0</th>\n      <td>2.0</td>\n      <td>1-4</td>\n      <td>Python语言程序设计</td>\n      <td>文件操作与异常处理</td>\n      <td>4.0</td>\n      <td>验证型</td>\n      <td>数据科学（卓越）191</td>\n      <td>30.0</td>\n      <td>基础实验室</td>\n      <td>11-505</td>\n    </tr>\n    <tr>\n      <th>7.0</th>\n      <td>2.0</td>\n      <td>1-4</td>\n      <td>Python语言程序设计</td>\n      <td>界面设计</td>\n      <td>4.0</td>\n      <td>验证型</td>\n      <td>数据科学（卓越）191</td>\n      <td>30.0</td>\n      <td>基础实验室</td>\n      <td>11-505</td>\n    </tr>\n    <tr>\n      <th>8.0</th>\n      <td>2.0</td>\n      <td>1-4</td>\n      <td>Python语言程序设计</td>\n      <td>综合程序设计</td>\n      <td>4.0</td>\n      <td>综合型</td>\n      <td>数据科学（卓越）191</td>\n      <td>30.0</td>\n      <td>基础实验室</td>\n      <td>11-505</td>\n    </tr>\n    <tr>\n      <th>NaN</th>\n      <td>NaN</td>\n      <td>NaN</td>\n      <td>NaN</td>\n      <td>NaN</td>\n      <td>NaN</td>\n      <td>NaN</td>\n      <td>NaN</td>\n      <td>NaN</td>\n      <td>NaN</td>\n      <td>NaN</td>\n    </tr>\n    <tr>\n      <th>NaN</th>\n      <td>NaN</td>\n      <td>NaN</td>\n      <td>NaN</td>\n      <td>NaN</td>\n      <td>NaN</td>\n      <td>NaN</td>\n      <td>NaN</td>\n      <td>NaN</td>\n      <td>NaN</td>\n      <td>NaN</td>\n    </tr>\n  </tbody>\n</table>\n<p>96 rows × 10 columns</p>\n</div>"
     },
     "metadata": {},
     "execution_count": 172
    }
   ],
   "source": [
    "tplan.sort_values(by=['班级','周次','星期','节次'],ascending=True)"
   ]
  },
  {
   "cell_type": "code",
   "execution_count": 173,
   "metadata": {},
   "outputs": [
    {
     "output_type": "execute_result",
     "data": {
      "text/plain": [
       "         实验课时数\n",
       "二级实验室名称       \n",
       "人工智能实验室   62.0\n",
       "基础实验室     88.0\n",
       "数据科学实验室  104.0"
      ],
      "text/html": "<div>\n<style scoped>\n    .dataframe tbody tr th:only-of-type {\n        vertical-align: middle;\n    }\n\n    .dataframe tbody tr th {\n        vertical-align: top;\n    }\n\n    .dataframe thead th {\n        text-align: right;\n    }\n</style>\n<table border=\"1\" class=\"dataframe\">\n  <thead>\n    <tr style=\"text-align: right;\">\n      <th></th>\n      <th>实验课时数</th>\n    </tr>\n    <tr>\n      <th>二级实验室名称</th>\n      <th></th>\n    </tr>\n  </thead>\n  <tbody>\n    <tr>\n      <th>人工智能实验室</th>\n      <td>62.0</td>\n    </tr>\n    <tr>\n      <th>基础实验室</th>\n      <td>88.0</td>\n    </tr>\n    <tr>\n      <th>数据科学实验室</th>\n      <td>104.0</td>\n    </tr>\n  </tbody>\n</table>\n</div>"
     },
     "metadata": {},
     "execution_count": 173
    }
   ],
   "source": [
    "grouped=tplan.groupby(['二级实验室名称'])\n",
    "grouped.agg({'实验课时数':np.sum})"
   ]
  },
  {
   "cell_type": "code",
   "execution_count": 186,
   "metadata": {},
   "outputs": [
    {
     "output_type": "execute_result",
     "data": {
      "text/plain": [
       "二级实验室名称\n",
       "人工智能实验室             [验证型, 设计型, 综合型]\n",
       "基础实验室                    [验证型, 综合型]\n",
       "数据科学实验室    [验证型, 设计型, 综合型, 实训, nan]\n",
       "Name: 实验类型, dtype: object"
      ]
     },
     "metadata": {},
     "execution_count": 186
    }
   ],
   "source": [
    "type=tplan.groupby('二级实验室名称')['实验类型'].unique()\n",
    "type"
   ]
  }
 ]
}