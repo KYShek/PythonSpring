{
 "metadata": {
  "language_info": {
   "codemirror_mode": {
    "name": "ipython",
    "version": 3
   },
   "file_extension": ".py",
   "mimetype": "text/x-python",
   "name": "python",
   "nbconvert_exporter": "python",
   "pygments_lexer": "ipython3",
   "version": "3.8.5-final"
  },
  "orig_nbformat": 2,
  "kernelspec": {
   "name": "python385jvsc74a57bd0b3ba2566441a7c06988d0923437866b63cedc61552a5af99d1f4fb67d367b25f",
   "display_name": "Python 3.8.5 64-bit (conda)"
  }
 },
 "nbformat": 4,
 "nbformat_minor": 2,
 "cells": [
  {
   "cell_type": "code",
   "execution_count": 20,
   "metadata": {},
   "outputs": [
    {
     "output_type": "stream",
     "name": "stdout",
     "text": [
      "['Ming', 'Wang', 'Lau', 'Song', 'Han']\nMing Wang Lau Song Han\nMing Wang Lau Song Han "
     ]
    }
   ],
   "source": [
    "#思考题\n",
    "list=['Ming','Wang','Lau','Song']\n",
    "list.append('Han')\n",
    "print(list)\n",
    "print(*list)\n",
    "for item in list[:]:\n",
    "    print(item,end=' ')"
   ]
  },
  {
   "cell_type": "code",
   "execution_count": 31,
   "metadata": {},
   "outputs": [
    {
     "output_type": "stream",
     "name": "stdout",
     "text": [
      "{'name': 'Tsunoda', 'team': 'Alpha Tauri', 'height': '159'}\n"
     ]
    }
   ],
   "source": [
    "d={'name':'Tsunoda','team':'Alpha Tauri','height':'159'}\n",
    "print(d)\n",
    "print"
   ]
  },
  {
   "cell_type": "code",
   "execution_count": null,
   "metadata": {},
   "outputs": [],
   "source": []
  }
 ]
}