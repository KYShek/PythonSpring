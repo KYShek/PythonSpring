{
 "cells": [
  {
   "cell_type": "markdown",
   "metadata": {},
   "source": [
    "VScode Jupyter\n",
    "Administrator:JYuS\n",
    "-*- coding:utf-8 -*-"
   ]
  },
  {
   "cell_type": "code",
   "execution_count": 16,
   "metadata": {},
   "outputs": [
    {
     "name": "stdout",
     "output_type": "stream",
     "text": [
      "[1, 2, 3, 4, 5, 6, 7, 8, 9, 10]\n",
      "1 2 3 4 5 6 7 8 9 10\n",
      "1 2 3 4 5 6 7 8 9 10 "
     ]
    }
   ],
   "source": [
    "#思考题2 part1 列表的遍历输出\n",
    "list=[1,2,3,4,5,6,7,8,9,10]\n",
    "print(list)\n",
    "print(*list)\n",
    "for item in list[:]:\n",
    "    print(item,end=' ')"
   ]
  },
  {
   "cell_type": "code",
   "execution_count": 17,
   "metadata": {},
   "outputs": [
    {
     "name": "stdout",
     "output_type": "stream",
     "text": [
      "{'name': 'Tsunoda', 'team': 'Alpha Tauri', 'height': '159'}\n",
      "name:Tsunoda  team:Alpha Tauri  height:159  "
     ]
    }
   ],
   "source": [
    "#思考题2 part2 字典的遍历输出\n",
    "d={'name':'Tsunoda','team':'Alpha Tauri','height':'159'}\n",
    "print(d)\n",
    "for k,v in d.items():\n",
    "    print(\"{}:{}\".format(k,v),end='  ')"
   ]
  },
  {
   "cell_type": "code",
   "execution_count": 20,
   "metadata": {},
   "outputs": [
    {
     "name": "stdout",
     "output_type": "stream",
     "text": [
      "输入学生姓名 空格分隔wang liu\n",
      "需要检索的姓名l\n",
      "不在列表中\n"
     ]
    }
   ],
   "source": [
    "#综合练习题2 列表检索\n",
    "name_list=input(\"输入学生姓名 空格分隔\").split(\" \")\n",
    "x=input(\"需要检索的姓名\")\n",
    "if x in name_list:\n",
    "    print(\"在列表中\")\n",
    "else:\n",
    "    print(\"不在列表中\")"
   ]
  },
  {
   "cell_type": "code",
   "execution_count": 24,
   "metadata": {},
   "outputs": [
    {
     "name": "stdout",
     "output_type": "stream",
     "text": [
      "Input a name(<Enter> '' to quit):ming\n",
      "Input his height:1.5\n",
      "Input a name(<Enter> '' to quit):wang\n",
      "Input his height:1.5\n",
      "Input a name(<Enter> '' to quit):liu\n",
      "Input his height:1.56\n",
      "Input a name(<Enter> '' to quit):qi\n",
      "Input his height:1.67\n",
      "Input a name(<Enter> '' to quit):llll\n",
      "Input his height:1.1\n",
      "Input a name(<Enter> '' to quit):l\n",
      "Input his height:2\n",
      "Input a name(<Enter> '' to quit):\n",
      "Input the name:ming\n",
      "liu:1.56 qi:1.67 l:2 "
     ]
    }
   ],
   "source": [
    "#综合练习题3 查找身高\n",
    "dict={}\n",
    "name=input(\"Input a name(<Enter> '' to quit):\")\n",
    "while name !=\"\":\n",
    "    height=input(\"Input his height:\")\n",
    "    dict[name]=height\n",
    "    name=input(\"Input a name(<Enter> '' to quit):\")#字典信息输入\n",
    "name_find=input(\"Input the name:\")\n",
    "for k,v in dict.items():\n",
    "    if float(v)>float(dict[name_find]):\n",
    "        print(\"{}:{}\".format(k,v),end=' ')"
   ]
  }
 ],
 "metadata": {
  "kernelspec": {
   "name": "python385jvsc74a57bd03e3a6caa97949eef31b818a4751c2163301d2f9bc7a00c15d2cf8749b2f35505",
   "display_name": "Python 3.8.5 64-bit (conda)"
  },
  "language_info": {
   "codemirror_mode": {
    "name": "ipython",
    "version": 3
   },
   "file_extension": ".py",
   "mimetype": "text/x-python",
   "name": "python",
   "nbconvert_exporter": "python",
   "pygments_lexer": "ipython3",
   "version": "3.8.5-final"
  }
 },
 "nbformat": 4,
 "nbformat_minor": 4
}