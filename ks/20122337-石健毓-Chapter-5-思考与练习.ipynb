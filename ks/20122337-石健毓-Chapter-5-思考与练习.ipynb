{
 "metadata": {
  "language_info": {
   "codemirror_mode": {
    "name": "ipython",
    "version": 3
   },
   "file_extension": ".py",
   "mimetype": "text/x-python",
   "name": "python",
   "nbconvert_exporter": "python",
   "pygments_lexer": "ipython3",
   "version": "3.8.5"
  },
  "orig_nbformat": 2,
  "kernelspec": {
   "name": "python385jvsc74a57bd07b4b4feff2f24a0f0a34464dbe537a36fda679851528fb8735cb41fa49dffb2d",
   "display_name": "Python 3.8.5 64-bit ('base': conda)"
  }
 },
 "nbformat": 4,
 "nbformat_minor": 2,
 "cells": [
  {
   "source": [
    "#5.2.1\n",
    "import pandas as pd\n",
    "import matplotlib.pyplot as plt\n",
    "filename='data/advertising.csv'\n",
    "data=pd.read_csv(filename,index_col=0)\n",
    "X=data.iloc[:,0:3].values.astype(float)\n",
    "y=data.iloc[:,3].values.astype(float)\n",
    "from sklearn.linear_model import LinearRegression\n",
    "linreg=LinearRegression()\n",
    "linreg.fit(X,y)\n",
    "print(linreg.intercept_,linreg.coef_)\n",
    "#\n",
    "from sklearn import model_selection\n",
    "X_train,X,y_train,y=model_selection.train_test_split(X,y,train_size=0.65 ,random_state=1)\n",
    "linregTr=LinearRegression()\n",
    "linregTr.fit(X,y)\n",
    "print(linregTr.intercept_,linregTr.coef_)\n",
    "#\n",
    "from sklearn import metrics\n",
    "y_train_pred=linregTr.predict(X_train)\n",
    "y_pred=linregTr.predict(X)\n",
    "train_err=metrics.mean_squared_error(y_train,y_train_pred)\n",
    "all_err=metrics.mean_squared_error(y,y_pred)\n",
    "print('The mean squar error of train and all are:{:.4f},{:.4f}'.format(train_err,all_err))\n",
    "predict_score=linregTr.score(X,y)\n",
    "print('The decision coeficinet is:{:.4f}'.format(predict_score))"
   ],
   "cell_type": "code",
   "metadata": {},
   "execution_count": 41,
   "outputs": [
    {
     "output_type": "stream",
     "name": "stdout",
     "text": [
      "2.9388893694594085 [ 0.04576465  0.18853002 -0.00103749]\n2.8976878663491554 [ 0.04506282  0.20377137 -0.00839754]\nThe mean squar error of train and all are:3.1958,2.1750\nThe decision coeficinet is:0.9178\n"
     ]
    }
   ]
  },
  {
   "source": [
    "X=data.iloc[:,0:3].values.astype(float)\n",
    "y=data.iloc[:,3].values.astype(float)\n",
    "from sklearn.linear_model import LinearRegression\n",
    "linreg=LinearRegression()\n",
    "linreg.fit(X,y)\n",
    "print(linreg.intercept_,linreg.coef_)\n",
    "from sklearn import model_selection\n",
    "X_train,X_test,y_train,y_test=model_selection.train_test_split(X,y,test_size=0.35,random_state=1)\n",
    "linregTr=LinearRegression()\n",
    "linregTr.fit(X_train,y_train)\n",
    "print(linregTr.intercept_,linregTr.coef_)\n",
    "from sklearn import metrics\n",
    "y_train_pred=linregTr.predict(X_train)\n",
    "y_test_pred=linregTr.predict(X_test)\n",
    "train_err=metrics.mean_squared_error(y_train,y_train_pred)\n",
    "test_err=metrics.mean_squared_error(y_test,y_test_pred)\n",
    "print('The mean squar error of train and test are:{:.4f},{:.4f}'.format(train_err,test_err))\n",
    "predict_score=linregTr.score(X_test,y_test)\n",
    "print('The decision coeficinet is:{:.4f}'.format(predict_score))\n",
    "fig=plt.figure()\n",
    "plt.plot(y_test_pred,color='r')\n",
    "plt.plot(y_test,color='b')\n",
    "plt.show()"
   ],
   "cell_type": "code",
   "metadata": {},
   "execution_count": 42,
   "outputs": [
    {
     "output_type": "stream",
     "name": "stdout",
     "text": [
      "2.9388893694594085 [ 0.04576465  0.18853002 -0.00103749]\n2.9324713466040873 [0.04608839 0.18047646 0.00411699]\nThe mean squar error of train and test are:3.0646,2.3151\nThe decision coeficinet is:0.9125\n"
     ]
    },
    {
     "output_type": "display_data",
     "data": {
      "text/plain": "<Figure size 432x288 with 1 Axes>",
      "image/svg+xml": "<?xml version=\"1.0\" encoding=\"utf-8\" standalone=\"no\"?>\r\n<!DOCTYPE svg PUBLIC \"-//W3C//DTD SVG 1.1//EN\"\r\n  \"http://www.w3.org/Graphics/SVG/1.1/DTD/svg11.dtd\">\r\n<!-- Created with matplotlib (https://matplotlib.org/) -->\r\n<svg height=\"248.518125pt\" version=\"1.1\" viewBox=\"0 0 368.925 248.518125\" width=\"368.925pt\" xmlns=\"http://www.w3.org/2000/svg\" xmlns:xlink=\"http://www.w3.org/1999/xlink\">\r\n <metadata>\r\n  <rdf:RDF xmlns:cc=\"http://creativecommons.org/ns#\" xmlns:dc=\"http://purl.org/dc/elements/1.1/\" xmlns:rdf=\"http://www.w3.org/1999/02/22-rdf-syntax-ns#\">\r\n   <cc:Work>\r\n    <dc:type rdf:resource=\"http://purl.org/dc/dcmitype/StillImage\"/>\r\n    <dc:date>2021-06-03T12:15:15.272091</dc:date>\r\n    <dc:format>image/svg+xml</dc:format>\r\n    <dc:creator>\r\n     <cc:Agent>\r\n      <dc:title>Matplotlib v3.3.2, https://matplotlib.org/</dc:title>\r\n     </cc:Agent>\r\n    </dc:creator>\r\n   </cc:Work>\r\n  </rdf:RDF>\r\n </metadata>\r\n <defs>\r\n  <style type=\"text/css\">*{stroke-linecap:butt;stroke-linejoin:round;}</style>\r\n </defs>\r\n <g id=\"figure_1\">\r\n  <g id=\"patch_1\">\r\n   <path d=\"M -0 248.518125 \r\nL 368.925 248.518125 \r\nL 368.925 0 \r\nL -0 0 \r\nz\r\n\" style=\"fill:none;\"/>\r\n  </g>\r\n  <g id=\"axes_1\">\r\n   <g id=\"patch_2\">\r\n    <path d=\"M 26.925 224.64 \r\nL 361.725 224.64 \r\nL 361.725 7.2 \r\nL 26.925 7.2 \r\nz\r\n\" style=\"fill:#ffffff;\"/>\r\n   </g>\r\n   <g id=\"matplotlib.axis_1\">\r\n    <g id=\"xtick_1\">\r\n     <g id=\"line2d_1\">\r\n      <defs>\r\n       <path d=\"M 0 0 \r\nL 0 3.5 \r\n\" id=\"m8abe2a8b98\" style=\"stroke:#000000;stroke-width:0.8;\"/>\r\n      </defs>\r\n      <g>\r\n       <use style=\"stroke:#000000;stroke-width:0.8;\" x=\"42.143182\" xlink:href=\"#m8abe2a8b98\" y=\"224.64\"/>\r\n      </g>\r\n     </g>\r\n     <g id=\"text_1\">\r\n      <!-- 0 -->\r\n      <g transform=\"translate(38.961932 239.238437)scale(0.1 -0.1)\">\r\n       <defs>\r\n        <path d=\"M 31.78125 66.40625 \r\nQ 24.171875 66.40625 20.328125 58.90625 \r\nQ 16.5 51.421875 16.5 36.375 \r\nQ 16.5 21.390625 20.328125 13.890625 \r\nQ 24.171875 6.390625 31.78125 6.390625 \r\nQ 39.453125 6.390625 43.28125 13.890625 \r\nQ 47.125 21.390625 47.125 36.375 \r\nQ 47.125 51.421875 43.28125 58.90625 \r\nQ 39.453125 66.40625 31.78125 66.40625 \r\nz\r\nM 31.78125 74.21875 \r\nQ 44.046875 74.21875 50.515625 64.515625 \r\nQ 56.984375 54.828125 56.984375 36.375 \r\nQ 56.984375 17.96875 50.515625 8.265625 \r\nQ 44.046875 -1.421875 31.78125 -1.421875 \r\nQ 19.53125 -1.421875 13.0625 8.265625 \r\nQ 6.59375 17.96875 6.59375 36.375 \r\nQ 6.59375 54.828125 13.0625 64.515625 \r\nQ 19.53125 74.21875 31.78125 74.21875 \r\nz\r\n\" id=\"DejaVuSans-48\"/>\r\n       </defs>\r\n       <use xlink:href=\"#DejaVuSans-48\"/>\r\n      </g>\r\n     </g>\r\n    </g>\r\n    <g id=\"xtick_2\">\r\n     <g id=\"line2d_2\">\r\n      <g>\r\n       <use style=\"stroke:#000000;stroke-width:0.8;\" x=\"86.253854\" xlink:href=\"#m8abe2a8b98\" y=\"224.64\"/>\r\n      </g>\r\n     </g>\r\n     <g id=\"text_2\">\r\n      <!-- 10 -->\r\n      <g transform=\"translate(79.891354 239.238437)scale(0.1 -0.1)\">\r\n       <defs>\r\n        <path d=\"M 12.40625 8.296875 \r\nL 28.515625 8.296875 \r\nL 28.515625 63.921875 \r\nL 10.984375 60.40625 \r\nL 10.984375 69.390625 \r\nL 28.421875 72.90625 \r\nL 38.28125 72.90625 \r\nL 38.28125 8.296875 \r\nL 54.390625 8.296875 \r\nL 54.390625 0 \r\nL 12.40625 0 \r\nz\r\n\" id=\"DejaVuSans-49\"/>\r\n       </defs>\r\n       <use xlink:href=\"#DejaVuSans-49\"/>\r\n       <use x=\"63.623047\" xlink:href=\"#DejaVuSans-48\"/>\r\n      </g>\r\n     </g>\r\n    </g>\r\n    <g id=\"xtick_3\">\r\n     <g id=\"line2d_3\">\r\n      <g>\r\n       <use style=\"stroke:#000000;stroke-width:0.8;\" x=\"130.364526\" xlink:href=\"#m8abe2a8b98\" y=\"224.64\"/>\r\n      </g>\r\n     </g>\r\n     <g id=\"text_3\">\r\n      <!-- 20 -->\r\n      <g transform=\"translate(124.002026 239.238437)scale(0.1 -0.1)\">\r\n       <defs>\r\n        <path d=\"M 19.1875 8.296875 \r\nL 53.609375 8.296875 \r\nL 53.609375 0 \r\nL 7.328125 0 \r\nL 7.328125 8.296875 \r\nQ 12.9375 14.109375 22.625 23.890625 \r\nQ 32.328125 33.6875 34.8125 36.53125 \r\nQ 39.546875 41.84375 41.421875 45.53125 \r\nQ 43.3125 49.21875 43.3125 52.78125 \r\nQ 43.3125 58.59375 39.234375 62.25 \r\nQ 35.15625 65.921875 28.609375 65.921875 \r\nQ 23.96875 65.921875 18.8125 64.3125 \r\nQ 13.671875 62.703125 7.8125 59.421875 \r\nL 7.8125 69.390625 \r\nQ 13.765625 71.78125 18.9375 73 \r\nQ 24.125 74.21875 28.421875 74.21875 \r\nQ 39.75 74.21875 46.484375 68.546875 \r\nQ 53.21875 62.890625 53.21875 53.421875 \r\nQ 53.21875 48.921875 51.53125 44.890625 \r\nQ 49.859375 40.875 45.40625 35.40625 \r\nQ 44.1875 33.984375 37.640625 27.21875 \r\nQ 31.109375 20.453125 19.1875 8.296875 \r\nz\r\n\" id=\"DejaVuSans-50\"/>\r\n       </defs>\r\n       <use xlink:href=\"#DejaVuSans-50\"/>\r\n       <use x=\"63.623047\" xlink:href=\"#DejaVuSans-48\"/>\r\n      </g>\r\n     </g>\r\n    </g>\r\n    <g id=\"xtick_4\">\r\n     <g id=\"line2d_4\">\r\n      <g>\r\n       <use style=\"stroke:#000000;stroke-width:0.8;\" x=\"174.475198\" xlink:href=\"#m8abe2a8b98\" y=\"224.64\"/>\r\n      </g>\r\n     </g>\r\n     <g id=\"text_4\">\r\n      <!-- 30 -->\r\n      <g transform=\"translate(168.112698 239.238437)scale(0.1 -0.1)\">\r\n       <defs>\r\n        <path d=\"M 40.578125 39.3125 \r\nQ 47.65625 37.796875 51.625 33 \r\nQ 55.609375 28.21875 55.609375 21.1875 \r\nQ 55.609375 10.40625 48.1875 4.484375 \r\nQ 40.765625 -1.421875 27.09375 -1.421875 \r\nQ 22.515625 -1.421875 17.65625 -0.515625 \r\nQ 12.796875 0.390625 7.625 2.203125 \r\nL 7.625 11.71875 \r\nQ 11.71875 9.328125 16.59375 8.109375 \r\nQ 21.484375 6.890625 26.8125 6.890625 \r\nQ 36.078125 6.890625 40.9375 10.546875 \r\nQ 45.796875 14.203125 45.796875 21.1875 \r\nQ 45.796875 27.640625 41.28125 31.265625 \r\nQ 36.765625 34.90625 28.71875 34.90625 \r\nL 20.21875 34.90625 \r\nL 20.21875 43.015625 \r\nL 29.109375 43.015625 \r\nQ 36.375 43.015625 40.234375 45.921875 \r\nQ 44.09375 48.828125 44.09375 54.296875 \r\nQ 44.09375 59.90625 40.109375 62.90625 \r\nQ 36.140625 65.921875 28.71875 65.921875 \r\nQ 24.65625 65.921875 20.015625 65.03125 \r\nQ 15.375 64.15625 9.8125 62.3125 \r\nL 9.8125 71.09375 \r\nQ 15.4375 72.65625 20.34375 73.4375 \r\nQ 25.25 74.21875 29.59375 74.21875 \r\nQ 40.828125 74.21875 47.359375 69.109375 \r\nQ 53.90625 64.015625 53.90625 55.328125 \r\nQ 53.90625 49.265625 50.4375 45.09375 \r\nQ 46.96875 40.921875 40.578125 39.3125 \r\nz\r\n\" id=\"DejaVuSans-51\"/>\r\n       </defs>\r\n       <use xlink:href=\"#DejaVuSans-51\"/>\r\n       <use x=\"63.623047\" xlink:href=\"#DejaVuSans-48\"/>\r\n      </g>\r\n     </g>\r\n    </g>\r\n    <g id=\"xtick_5\">\r\n     <g id=\"line2d_5\">\r\n      <g>\r\n       <use style=\"stroke:#000000;stroke-width:0.8;\" x=\"218.58587\" xlink:href=\"#m8abe2a8b98\" y=\"224.64\"/>\r\n      </g>\r\n     </g>\r\n     <g id=\"text_5\">\r\n      <!-- 40 -->\r\n      <g transform=\"translate(212.22337 239.238437)scale(0.1 -0.1)\">\r\n       <defs>\r\n        <path d=\"M 37.796875 64.3125 \r\nL 12.890625 25.390625 \r\nL 37.796875 25.390625 \r\nz\r\nM 35.203125 72.90625 \r\nL 47.609375 72.90625 \r\nL 47.609375 25.390625 \r\nL 58.015625 25.390625 \r\nL 58.015625 17.1875 \r\nL 47.609375 17.1875 \r\nL 47.609375 0 \r\nL 37.796875 0 \r\nL 37.796875 17.1875 \r\nL 4.890625 17.1875 \r\nL 4.890625 26.703125 \r\nz\r\n\" id=\"DejaVuSans-52\"/>\r\n       </defs>\r\n       <use xlink:href=\"#DejaVuSans-52\"/>\r\n       <use x=\"63.623047\" xlink:href=\"#DejaVuSans-48\"/>\r\n      </g>\r\n     </g>\r\n    </g>\r\n    <g id=\"xtick_6\">\r\n     <g id=\"line2d_6\">\r\n      <g>\r\n       <use style=\"stroke:#000000;stroke-width:0.8;\" x=\"262.696542\" xlink:href=\"#m8abe2a8b98\" y=\"224.64\"/>\r\n      </g>\r\n     </g>\r\n     <g id=\"text_6\">\r\n      <!-- 50 -->\r\n      <g transform=\"translate(256.334042 239.238437)scale(0.1 -0.1)\">\r\n       <defs>\r\n        <path d=\"M 10.796875 72.90625 \r\nL 49.515625 72.90625 \r\nL 49.515625 64.59375 \r\nL 19.828125 64.59375 \r\nL 19.828125 46.734375 \r\nQ 21.96875 47.46875 24.109375 47.828125 \r\nQ 26.265625 48.1875 28.421875 48.1875 \r\nQ 40.625 48.1875 47.75 41.5 \r\nQ 54.890625 34.8125 54.890625 23.390625 \r\nQ 54.890625 11.625 47.5625 5.09375 \r\nQ 40.234375 -1.421875 26.90625 -1.421875 \r\nQ 22.3125 -1.421875 17.546875 -0.640625 \r\nQ 12.796875 0.140625 7.71875 1.703125 \r\nL 7.71875 11.625 \r\nQ 12.109375 9.234375 16.796875 8.0625 \r\nQ 21.484375 6.890625 26.703125 6.890625 \r\nQ 35.15625 6.890625 40.078125 11.328125 \r\nQ 45.015625 15.765625 45.015625 23.390625 \r\nQ 45.015625 31 40.078125 35.4375 \r\nQ 35.15625 39.890625 26.703125 39.890625 \r\nQ 22.75 39.890625 18.8125 39.015625 \r\nQ 14.890625 38.140625 10.796875 36.28125 \r\nz\r\n\" id=\"DejaVuSans-53\"/>\r\n       </defs>\r\n       <use xlink:href=\"#DejaVuSans-53\"/>\r\n       <use x=\"63.623047\" xlink:href=\"#DejaVuSans-48\"/>\r\n      </g>\r\n     </g>\r\n    </g>\r\n    <g id=\"xtick_7\">\r\n     <g id=\"line2d_7\">\r\n      <g>\r\n       <use style=\"stroke:#000000;stroke-width:0.8;\" x=\"306.807213\" xlink:href=\"#m8abe2a8b98\" y=\"224.64\"/>\r\n      </g>\r\n     </g>\r\n     <g id=\"text_7\">\r\n      <!-- 60 -->\r\n      <g transform=\"translate(300.444713 239.238437)scale(0.1 -0.1)\">\r\n       <defs>\r\n        <path d=\"M 33.015625 40.375 \r\nQ 26.375 40.375 22.484375 35.828125 \r\nQ 18.609375 31.296875 18.609375 23.390625 \r\nQ 18.609375 15.53125 22.484375 10.953125 \r\nQ 26.375 6.390625 33.015625 6.390625 \r\nQ 39.65625 6.390625 43.53125 10.953125 \r\nQ 47.40625 15.53125 47.40625 23.390625 \r\nQ 47.40625 31.296875 43.53125 35.828125 \r\nQ 39.65625 40.375 33.015625 40.375 \r\nz\r\nM 52.59375 71.296875 \r\nL 52.59375 62.3125 \r\nQ 48.875 64.0625 45.09375 64.984375 \r\nQ 41.3125 65.921875 37.59375 65.921875 \r\nQ 27.828125 65.921875 22.671875 59.328125 \r\nQ 17.53125 52.734375 16.796875 39.40625 \r\nQ 19.671875 43.65625 24.015625 45.921875 \r\nQ 28.375 48.1875 33.59375 48.1875 \r\nQ 44.578125 48.1875 50.953125 41.515625 \r\nQ 57.328125 34.859375 57.328125 23.390625 \r\nQ 57.328125 12.15625 50.6875 5.359375 \r\nQ 44.046875 -1.421875 33.015625 -1.421875 \r\nQ 20.359375 -1.421875 13.671875 8.265625 \r\nQ 6.984375 17.96875 6.984375 36.375 \r\nQ 6.984375 53.65625 15.1875 63.9375 \r\nQ 23.390625 74.21875 37.203125 74.21875 \r\nQ 40.921875 74.21875 44.703125 73.484375 \r\nQ 48.484375 72.75 52.59375 71.296875 \r\nz\r\n\" id=\"DejaVuSans-54\"/>\r\n       </defs>\r\n       <use xlink:href=\"#DejaVuSans-54\"/>\r\n       <use x=\"63.623047\" xlink:href=\"#DejaVuSans-48\"/>\r\n      </g>\r\n     </g>\r\n    </g>\r\n    <g id=\"xtick_8\">\r\n     <g id=\"line2d_8\">\r\n      <g>\r\n       <use style=\"stroke:#000000;stroke-width:0.8;\" x=\"350.917885\" xlink:href=\"#m8abe2a8b98\" y=\"224.64\"/>\r\n      </g>\r\n     </g>\r\n     <g id=\"text_8\">\r\n      <!-- 70 -->\r\n      <g transform=\"translate(344.555385 239.238437)scale(0.1 -0.1)\">\r\n       <defs>\r\n        <path d=\"M 8.203125 72.90625 \r\nL 55.078125 72.90625 \r\nL 55.078125 68.703125 \r\nL 28.609375 0 \r\nL 18.3125 0 \r\nL 43.21875 64.59375 \r\nL 8.203125 64.59375 \r\nz\r\n\" id=\"DejaVuSans-55\"/>\r\n       </defs>\r\n       <use xlink:href=\"#DejaVuSans-55\"/>\r\n       <use x=\"63.623047\" xlink:href=\"#DejaVuSans-48\"/>\r\n      </g>\r\n     </g>\r\n    </g>\r\n   </g>\r\n   <g id=\"matplotlib.axis_2\">\r\n    <g id=\"ytick_1\">\r\n     <g id=\"line2d_9\">\r\n      <defs>\r\n       <path d=\"M 0 0 \r\nL -3.5 0 \r\n\" id=\"m5bc7685355\" style=\"stroke:#000000;stroke-width:0.8;\"/>\r\n      </defs>\r\n      <g>\r\n       <use style=\"stroke:#000000;stroke-width:0.8;\" x=\"26.925\" xlink:href=\"#m5bc7685355\" y=\"203.086411\"/>\r\n      </g>\r\n     </g>\r\n     <g id=\"text_9\">\r\n      <!-- 5 -->\r\n      <g transform=\"translate(13.5625 206.88563)scale(0.1 -0.1)\">\r\n       <use xlink:href=\"#DejaVuSans-53\"/>\r\n      </g>\r\n     </g>\r\n    </g>\r\n    <g id=\"ytick_2\">\r\n     <g id=\"line2d_10\">\r\n      <g>\r\n       <use style=\"stroke:#000000;stroke-width:0.8;\" x=\"26.925\" xlink:href=\"#m5bc7685355\" y=\"157.719881\"/>\r\n      </g>\r\n     </g>\r\n     <g id=\"text_10\">\r\n      <!-- 10 -->\r\n      <g transform=\"translate(7.2 161.5191)scale(0.1 -0.1)\">\r\n       <use xlink:href=\"#DejaVuSans-49\"/>\r\n       <use x=\"63.623047\" xlink:href=\"#DejaVuSans-48\"/>\r\n      </g>\r\n     </g>\r\n    </g>\r\n    <g id=\"ytick_3\">\r\n     <g id=\"line2d_11\">\r\n      <g>\r\n       <use style=\"stroke:#000000;stroke-width:0.8;\" x=\"26.925\" xlink:href=\"#m5bc7685355\" y=\"112.35335\"/>\r\n      </g>\r\n     </g>\r\n     <g id=\"text_11\">\r\n      <!-- 15 -->\r\n      <g transform=\"translate(7.2 116.152569)scale(0.1 -0.1)\">\r\n       <use xlink:href=\"#DejaVuSans-49\"/>\r\n       <use x=\"63.623047\" xlink:href=\"#DejaVuSans-53\"/>\r\n      </g>\r\n     </g>\r\n    </g>\r\n    <g id=\"ytick_4\">\r\n     <g id=\"line2d_12\">\r\n      <g>\r\n       <use style=\"stroke:#000000;stroke-width:0.8;\" x=\"26.925\" xlink:href=\"#m5bc7685355\" y=\"66.98682\"/>\r\n      </g>\r\n     </g>\r\n     <g id=\"text_12\">\r\n      <!-- 20 -->\r\n      <g transform=\"translate(7.2 70.786039)scale(0.1 -0.1)\">\r\n       <use xlink:href=\"#DejaVuSans-50\"/>\r\n       <use x=\"63.623047\" xlink:href=\"#DejaVuSans-48\"/>\r\n      </g>\r\n     </g>\r\n    </g>\r\n    <g id=\"ytick_5\">\r\n     <g id=\"line2d_13\">\r\n      <g>\r\n       <use style=\"stroke:#000000;stroke-width:0.8;\" x=\"26.925\" xlink:href=\"#m5bc7685355\" y=\"21.620289\"/>\r\n      </g>\r\n     </g>\r\n     <g id=\"text_13\">\r\n      <!-- 25 -->\r\n      <g transform=\"translate(7.2 25.419508)scale(0.1 -0.1)\">\r\n       <use xlink:href=\"#DejaVuSans-50\"/>\r\n       <use x=\"63.623047\" xlink:href=\"#DejaVuSans-53\"/>\r\n      </g>\r\n     </g>\r\n    </g>\r\n   </g>\r\n   <g id=\"line2d_14\">\r\n    <path clip-path=\"url(#p77a0635009)\" d=\"M 42.143182 51.065458 \r\nL 46.554249 99.468412 \r\nL 50.965316 179.25752 \r\nL 55.376383 87.335023 \r\nL 59.787451 79.713366 \r\nL 64.198518 32.002912 \r\nL 68.609585 99.836263 \r\nL 73.020652 126.373143 \r\nL 77.431719 164.598278 \r\nL 81.842787 90.97397 \r\nL 86.253854 117.061349 \r\nL 90.664921 158.655371 \r\nL 95.075988 92.613897 \r\nL 99.487055 95.736816 \r\nL 103.898123 111.883829 \r\nL 108.30919 105.898335 \r\nL 112.720257 135.349396 \r\nL 117.131324 93.251179 \r\nL 121.542391 146.929868 \r\nL 125.953458 85.082263 \r\nL 130.364526 164.0064 \r\nL 134.775593 129.301928 \r\nL 139.18666 167.647887 \r\nL 143.597727 153.601412 \r\nL 148.008794 144.699168 \r\nL 152.419862 112.466371 \r\nL 156.830929 158.789544 \r\nL 161.241996 72.57185 \r\nL 165.653063 83.184052 \r\nL 170.06413 93.240153 \r\nL 174.475198 52.877698 \r\nL 178.886265 115.048664 \r\nL 183.297332 100.725294 \r\nL 187.708399 136.584972 \r\nL 192.119466 67.759935 \r\nL 196.530534 109.315655 \r\nL 200.941601 122.786902 \r\nL 205.352668 157.230947 \r\nL 209.763735 58.282491 \r\nL 214.174802 180.100375 \r\nL 218.58587 214.756364 \r\nL 222.996937 182.684908 \r\nL 227.408004 193.337807 \r\nL 231.819071 80.903733 \r\nL 236.230138 171.232317 \r\nL 240.641206 120.398527 \r\nL 245.052273 111.21993 \r\nL 249.46334 63.572251 \r\nL 253.874407 61.535819 \r\nL 258.285474 70.21122 \r\nL 262.696542 29.521115 \r\nL 267.107609 113.247173 \r\nL 271.518676 186.699854 \r\nL 275.929743 67.641081 \r\nL 280.34081 78.017119 \r\nL 284.751877 135.563475 \r\nL 289.162945 120.608573 \r\nL 293.574012 192.269245 \r\nL 297.985079 110.379879 \r\nL 302.396146 160.686754 \r\nL 306.807213 139.263106 \r\nL 311.218281 139.469048 \r\nL 315.629348 170.274665 \r\nL 320.040415 53.643323 \r\nL 324.451482 37.241427 \r\nL 328.862549 135.331378 \r\nL 333.273617 187.964505 \r\nL 337.684684 85.994753 \r\nL 342.095751 99.099789 \r\nL 346.506818 168.308121 \r\n\" style=\"fill:none;stroke:#ff0000;stroke-linecap:square;stroke-width:1.5;\"/>\r\n   </g>\r\n   <g id=\"line2d_15\">\r\n    <path clip-path=\"url(#p77a0635009)\" d=\"M 42.143182 32.508257 \r\nL 46.554249 97.836061 \r\nL 50.965316 162.256534 \r\nL 55.376383 114.168012 \r\nL 59.787451 88.762755 \r\nL 64.198518 17.083636 \r\nL 68.609585 95.114069 \r\nL 73.020652 131.407293 \r\nL 77.431719 153.183228 \r\nL 81.842787 93.299408 \r\nL 86.253854 116.890004 \r\nL 90.664921 145.924583 \r\nL 95.075988 90.577416 \r\nL 99.487055 96.92873 \r\nL 103.898123 126.87064 \r\nL 108.30919 104.187375 \r\nL 112.720257 131.407293 \r\nL 117.131324 132.314624 \r\nL 121.542391 162.256534 \r\nL 125.953458 81.50411 \r\nL 130.364526 151.368567 \r\nL 134.775593 135.036616 \r\nL 139.18666 171.32984 \r\nL 143.597727 144.109922 \r\nL 148.008794 140.480599 \r\nL 152.419862 113.260681 \r\nL 156.830929 156.81255 \r\nL 161.241996 76.967457 \r\nL 165.653063 70.616142 \r\nL 170.06413 104.187375 \r\nL 174.475198 37.95224 \r\nL 178.886265 140.480599 \r\nL 183.297332 91.484746 \r\nL 187.708399 142.295261 \r\nL 192.119466 65.172159 \r\nL 196.530534 107.816697 \r\nL 200.941601 144.109922 \r\nL 205.352668 148.646575 \r\nL 209.763735 46.118216 \r\nL 214.174802 179.495816 \r\nL 218.58587 200.36442 \r\nL 222.996937 169.515179 \r\nL 227.408004 187.661791 \r\nL 231.819071 76.060126 \r\nL 236.230138 198.549758 \r\nL 240.641206 115.982673 \r\nL 245.052273 115.982673 \r\nL 249.46334 53.376861 \r\nL 253.874407 43.396224 \r\nL 258.285474 69.708812 \r\nL 262.696542 17.990967 \r\nL 267.107609 110.538689 \r\nL 271.518676 188.569122 \r\nL 275.929743 56.098853 \r\nL 280.34081 90.577416 \r\nL 284.751877 134.129285 \r\nL 289.162945 137.758608 \r\nL 293.574012 183.125138 \r\nL 297.985079 126.87064 \r\nL 302.396146 161.349203 \r\nL 306.807213 137.758608 \r\nL 311.218281 126.87064 \r\nL 315.629348 200.36442 \r\nL 320.040415 60.635506 \r\nL 324.451482 27.064273 \r\nL 328.862549 183.125138 \r\nL 333.273617 168.607848 \r\nL 337.684684 74.245465 \r\nL 342.095751 114.168012 \r\nL 346.506818 162.256534 \r\n\" style=\"fill:none;stroke:#0000ff;stroke-linecap:square;stroke-width:1.5;\"/>\r\n   </g>\r\n   <g id=\"patch_3\">\r\n    <path d=\"M 26.925 224.64 \r\nL 26.925 7.2 \r\n\" style=\"fill:none;stroke:#000000;stroke-linecap:square;stroke-linejoin:miter;stroke-width:0.8;\"/>\r\n   </g>\r\n   <g id=\"patch_4\">\r\n    <path d=\"M 361.725 224.64 \r\nL 361.725 7.2 \r\n\" style=\"fill:none;stroke:#000000;stroke-linecap:square;stroke-linejoin:miter;stroke-width:0.8;\"/>\r\n   </g>\r\n   <g id=\"patch_5\">\r\n    <path d=\"M 26.925 224.64 \r\nL 361.725 224.64 \r\n\" style=\"fill:none;stroke:#000000;stroke-linecap:square;stroke-linejoin:miter;stroke-width:0.8;\"/>\r\n   </g>\r\n   <g id=\"patch_6\">\r\n    <path d=\"M 26.925 7.2 \r\nL 361.725 7.2 \r\n\" style=\"fill:none;stroke:#000000;stroke-linecap:square;stroke-linejoin:miter;stroke-width:0.8;\"/>\r\n   </g>\r\n  </g>\r\n </g>\r\n <defs>\r\n  <clipPath id=\"p77a0635009\">\r\n   <rect height=\"217.44\" width=\"334.8\" x=\"26.925\" y=\"7.2\"/>\r\n  </clipPath>\r\n </defs>\r\n</svg>\r\n",
      "image/png": "[encoded data removed]"
     },
     "metadata": {
      "needs_background": "light"
     }
    }
   ]
  },
  {
   "source": [
    "使用全部数据学习的回归模型比只用测试集学习的模型效果好"
   ],
   "cell_type": "markdown",
   "metadata": {}
  },
  {
   "cell_type": "code",
   "execution_count": 43,
   "metadata": {},
   "outputs": [
    {
     "output_type": "stream",
     "name": "stdout",
     "text": [
      "3.3497853923471954 [ 0.04551295  0.19208846 -0.01066575]\n3.5865197769194435 [ 0.04494187  0.19205455 -0.01517946]\nThe mean squar error of train and test are:2.1186,2.1750\nThe decision coeficinet is:0.9048\n"
     ]
    }
   ],
   "source": [
    "#5.2.2\n",
    "data1=data.iloc[0:100, :]\n",
    "data1\n",
    "X=data1.iloc[:,0:3].values.astype(float)\n",
    "y=data1.iloc[:,3].values.astype(float)\n",
    "from sklearn.linear_model import LinearRegression\n",
    "linregHalf=LinearRegression()\n",
    "linregHalf.fit(X,y)\n",
    "print(linregHalf.intercept_,linregHalf.coef_)\n",
    "from sklearn import model_selection\n",
    "X_train,X_test,y_train,y_test=model_selection.train_test_split(X,y,test_size=0.35,random_state=1)\n",
    "linregHalf.fit(X_train,y_train)\n",
    "print(linregHalf.intercept_,linregHalf.coef_)\n",
    "from sklearn import metrics\n",
    "y_train_pred=linregHalf.predict(X_train)\n",
    "y_test_pred=linregHalf.predict(X_test)\n",
    "train_err=metrics.mean_squared_error(y_train,y_train_pred)\n",
    "test_err=metrics.mean_squared_error(y_test,y_test_pred)\n",
    "print('The mean squar error of train and test are:{:.4f},{:.4f}'.format(train_err,all_err))\n",
    "predict_score=linregHalf.score(X_test,y_test)\n",
    "print('The decision coeficinet is:{:.4f}'.format(predict_score))"
   ]
  },
  {
   "cell_type": "code",
   "execution_count": 44,
   "metadata": {},
   "outputs": [
    {
     "output_type": "stream",
     "name": "stdout",
     "text": [
      "2.9388893694594085 [ 0.04576465  0.18853002 -0.00103749]\n2.9324713466040873 [0.04608839 0.18047646 0.00411699]\nThe mean squar error of train and test are:3.0646,2.3151\nThe decision coeficient is:0.9125\n"
     ]
    }
   ],
   "source": [
    "data2=data.iloc[0:200,:]\n",
    "X=data2.iloc[:,0:3].values.astype(float)\n",
    "y=data2.iloc[:,3].values.astype(float)\n",
    "from sklearn.linear_model import LinearRegression\n",
    "linregHalf=LinearRegression()\n",
    "linregHalf.fit(X,y)\n",
    "print(linregHalf.intercept_,linregHalf.coef_)\n",
    "from sklearn import model_selection\n",
    "X_train,X_test,y_train,y_test=model_selection.train_test_split(X,y,test_size=0.35,random_state=1)\n",
    "linregHalf.fit(X_train,y_train)\n",
    "print(linregHalf.intercept_,linregHalf.coef_)\n",
    "from sklearn import metrics\n",
    "y_train_pred=linregHalf.predict(X_train)\n",
    "y_test_pred=linregHalf.predict(X_test)\n",
    "train_err=metrics.mean_squared_error(y_train,y_train_pred)\n",
    "test_err=metrics.mean_squared_error(y_test,y_test_pred)\n",
    "print('The mean squar error of train and test are:{:.4f},{:.4f}'.format(train_err,test_err))\n",
    "predict_score=linregHalf.score(X_test,y_test)\n",
    "print('The decision coeficient is:{:.4f}'.format(predict_score))"
   ]
  },
  {
   "cell_type": "code",
   "execution_count": 45,
   "metadata": {},
   "outputs": [
    {
     "output_type": "execute_result",
     "data": {
      "text/plain": [
       "    1  2     3  4\n",
       "0                \n",
       "1   1  1  12.5  0\n",
       "2   0  2  10.0  0\n",
       "3   0  1   7.0  0\n",
       "4   1  2  12.0  0\n",
       "5   0  3   9.5  1\n",
       "6   0  2   6.0  0\n",
       "7   1  3  22.0  0\n",
       "8   0  1   8.5  1\n",
       "9   0  2   7.5  0\n",
       "10  0  1   9.0  1\n",
       "11  0  1   5.5  1\n",
       "12  1  2   8.0  0\n",
       "13  1  3  11.0  0\n",
       "14  0  1   9.5  0\n",
       "15  0  3   6.7  1"
      ],
      "text/html": "<div>\n<style scoped>\n    .dataframe tbody tr th:only-of-type {\n        vertical-align: middle;\n    }\n\n    .dataframe tbody tr th {\n        vertical-align: top;\n    }\n\n    .dataframe thead th {\n        text-align: right;\n    }\n</style>\n<table border=\"1\" class=\"dataframe\">\n  <thead>\n    <tr style=\"text-align: right;\">\n      <th></th>\n      <th>1</th>\n      <th>2</th>\n      <th>3</th>\n      <th>4</th>\n    </tr>\n    <tr>\n      <th>0</th>\n      <th></th>\n      <th></th>\n      <th></th>\n      <th></th>\n    </tr>\n  </thead>\n  <tbody>\n    <tr>\n      <th>1</th>\n      <td>1</td>\n      <td>1</td>\n      <td>12.5</td>\n      <td>0</td>\n    </tr>\n    <tr>\n      <th>2</th>\n      <td>0</td>\n      <td>2</td>\n      <td>10.0</td>\n      <td>0</td>\n    </tr>\n    <tr>\n      <th>3</th>\n      <td>0</td>\n      <td>1</td>\n      <td>7.0</td>\n      <td>0</td>\n    </tr>\n    <tr>\n      <th>4</th>\n      <td>1</td>\n      <td>2</td>\n      <td>12.0</td>\n      <td>0</td>\n    </tr>\n    <tr>\n      <th>5</th>\n      <td>0</td>\n      <td>3</td>\n      <td>9.5</td>\n      <td>1</td>\n    </tr>\n    <tr>\n      <th>6</th>\n      <td>0</td>\n      <td>2</td>\n      <td>6.0</td>\n      <td>0</td>\n    </tr>\n    <tr>\n      <th>7</th>\n      <td>1</td>\n      <td>3</td>\n      <td>22.0</td>\n      <td>0</td>\n    </tr>\n    <tr>\n      <th>8</th>\n      <td>0</td>\n      <td>1</td>\n      <td>8.5</td>\n      <td>1</td>\n    </tr>\n    <tr>\n      <th>9</th>\n      <td>0</td>\n      <td>2</td>\n      <td>7.5</td>\n      <td>0</td>\n    </tr>\n    <tr>\n      <th>10</th>\n      <td>0</td>\n      <td>1</td>\n      <td>9.0</td>\n      <td>1</td>\n    </tr>\n    <tr>\n      <th>11</th>\n      <td>0</td>\n      <td>1</td>\n      <td>5.5</td>\n      <td>1</td>\n    </tr>\n    <tr>\n      <th>12</th>\n      <td>1</td>\n      <td>2</td>\n      <td>8.0</td>\n      <td>0</td>\n    </tr>\n    <tr>\n      <th>13</th>\n      <td>1</td>\n      <td>3</td>\n      <td>11.0</td>\n      <td>0</td>\n    </tr>\n    <tr>\n      <th>14</th>\n      <td>0</td>\n      <td>1</td>\n      <td>9.5</td>\n      <td>0</td>\n    </tr>\n    <tr>\n      <th>15</th>\n      <td>0</td>\n      <td>3</td>\n      <td>6.7</td>\n      <td>1</td>\n    </tr>\n  </tbody>\n</table>\n</div>"
     },
     "metadata": {},
     "execution_count": 45
    }
   ],
   "source": [
    "#5.3.2.1\n",
    "import pandas as pd\n",
    "data=pd.read_csv('data/bankdebt.csv',index_col=0,header=None)\n",
    "data\n",
    "data.loc[data[1]=='Yes',1]=1\n",
    "data.loc[data[1]=='No',1]=0\n",
    "data.loc[data[4]=='Yes',4]=1\n",
    "data.loc[data[4]=='No',4]=0\n",
    "data.loc[data[2]=='Single',2]=1\n",
    "data.loc[data[2]=='Married',2]=2\n",
    "data.loc[data[2]=='Divorced',2]=3\n",
    "data"
   ]
  },
  {
   "cell_type": "code",
   "execution_count": 46,
   "metadata": {},
   "outputs": [
    {
     "output_type": "execute_result",
     "data": {
      "text/plain": [
       "1.0"
      ]
     },
     "metadata": {},
     "execution_count": 46
    }
   ],
   "source": [
    "A=data.loc[:,1:3].values.astype(float)\n",
    "b=data.loc[:,4].values.astype(int)\n",
    "from sklearn import model_selection\n",
    "A_train,A_test,b_train,b_test=model_selection.train_test_split(A,b,test_size=0.35,random_state=1)\n",
    "from sklearn import tree\n",
    "clf=tree.DecisionTreeClassifier()\n",
    "clf=clf.fit(A_train,b_train)\n",
    "clf.score(A_train,b_train)"
   ]
  },
  {
   "cell_type": "code",
   "execution_count": 47,
   "metadata": {},
   "outputs": [
    {
     "output_type": "execute_result",
     "data": {
      "text/plain": [
       "0.6666666666666666"
      ]
     },
     "metadata": {},
     "execution_count": 47
    }
   ],
   "source": [
    "clf.score(A_test,b_test)"
   ]
  },
  {
   "cell_type": "code",
   "execution_count": 48,
   "metadata": {},
   "outputs": [
    {
     "output_type": "stream",
     "name": "stdout",
     "text": [
      "              precision    recall  f1-score   support\n\n           0       1.00      1.00      1.00         7\n           1       1.00      1.00      1.00         2\n\n    accuracy                           1.00         9\n   macro avg       1.00      1.00      1.00         9\nweighted avg       1.00      1.00      1.00         9\n\n"
     ]
    }
   ],
   "source": [
    "#5.3.2.2\n",
    "predicted_b_train=clf.predict(A_train)\n",
    "from sklearn import metrics\n",
    "print(metrics.classification_report(b_train,predicted_b_train))"
   ]
  },
  {
   "cell_type": "code",
   "execution_count": 50,
   "metadata": {},
   "outputs": [
    {
     "output_type": "stream",
     "name": "stdout",
     "text": [
      "     1         2     3    4\n0                          \n1  Yes    Single  12.5   No\n2   No   Married  10.0   No\n3   No    Single   7.0   No\n4  Yes   Married  12.0   No\n5   No  Divorced   9.5  Yes\n"
     ]
    }
   ],
   "source": [
    "data3=pd.read_csv('data/bankdebt.csv',nrows=5,index_col=0,header=None)\n",
    "print(data3)"
   ]
  },
  {
   "cell_type": "code",
   "execution_count": 51,
   "metadata": {},
   "outputs": [
    {
     "output_type": "stream",
     "name": "stdout",
     "text": [
      "[1]\n"
     ]
    }
   ],
   "source": [
    "X=data.loc[:,1:3].values.astype(float)\n",
    "y=data.loc[:,4].values.astype(int)\n",
    "from sklearn import tree\n",
    "ztr=tree.DecisionTreeClassifier()\n",
    "ztr=clf.fit(X,y)\n",
    "import joblib\n",
    "joblib.dump(ztr,'ztr.pkl')\n",
    "import numpy as np\n",
    "load_clf=joblib.load('ztr.pkl')\n",
    "new_X=np.array([[0,3,5]])\n",
    "print(load_clf.predict(new_X))"
   ]
  },
  {
   "cell_type": "code",
   "execution_count": null,
   "metadata": {},
   "outputs": [],
   "source": []
  }
 ]
}